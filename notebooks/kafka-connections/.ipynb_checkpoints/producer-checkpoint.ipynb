{
 "cells": [
  {
   "cell_type": "code",
   "execution_count": 9,
   "id": "caaa153c-4af9-4918-982f-87cc540351e5",
   "metadata": {},
   "outputs": [],
   "source": [
    "from kafka import KafkaProducer\n",
    "import csv\n",
    "import json\n",
    "import time\n",
    "from datetime import datetime\n",
    "import random\n",
    "\n",
    "\n",
    "\n",
    "topic_name = \"credit_card_trans\"\n",
    "bootstrap_servers = \"kafka_v2:9092\"\n",
    "csv_path = \"/opt/airflow/data/fraudTest.csv\" "
   ]
  },
  {
   "cell_type": "code",
   "execution_count": 10,
   "id": "23effe26-db01-46b7-81f7-019a7c144d79",
   "metadata": {},
   "outputs": [],
   "source": [
    "producer = KafkaProducer(\n",
    "    bootstrap_servers=bootstrap_servers,\n",
    "    value_serializer=lambda v: json.dumps(v).encode(\"utf-8\")  \n",
    ")"
   ]
  },
  {
   "cell_type": "code",
   "execution_count": 11,
   "id": "f20e5240-8ccb-496f-9fbb-345767e950ac",
   "metadata": {},
   "outputs": [],
   "source": [
    "# def stream_csv_rows(path):\n",
    "#     with open(path, newline='', encoding='utf-8') as csv_file:\n",
    "#             reader = csv.DictReader(csv_file)\n",
    "#             for row in reader:\n",
    "#                 row['event_time'] = datetime.now().strftime('%Y-%m-%d %H:%M:%S')\n",
    "#                 yield row\n",
    "#                 delay = random.randint(5, 10)\n",
    "#                 time.sleep(delay)\n",
    "\n",
    "\n",
    "def save_status(row_num) : \n",
    "    with open(\"/opt/airflow/data/state.json\", \"w\") as f:\n",
    "        json.dump({\"last_id\" : row_num}, f) \n",
    "\n",
    "def load_status():\n",
    "    try:\n",
    "        with open(\"/opt/airflow/data/state.json\", \"r\") as f:\n",
    "            state = json.load(f)\n",
    "            return state.get(\"last_id\", 0)\n",
    "    except FileNotFoundError:\n",
    "        return 0  \n",
    "    \n",
    "\n",
    "def stream_reader(path): \n",
    "    row_num = load_status()\n",
    "\n",
    "    with open(path, \"r\") as f:\n",
    "        reader = csv.DictReader(f)\n",
    "        for i, row in enumerate(reader):\n",
    "            if i < row_num:\n",
    "                continue  # Skip already processed rows\n",
    "            \n",
    "            row['event_time'] = datetime.now().strftime('%Y-%m-%d %H:%M:%S')\n",
    "            save_status(i + 1)\n",
    "            yield row\n",
    "\n",
    "            delay = random.randint(5, 10)\n",
    "            time.sleep(delay)\n",
    "    "
   ]
  },
  {
   "cell_type": "code",
   "execution_count": 12,
   "id": "5e6c60ea-5695-4708-b351-80e400631f5a",
   "metadata": {},
   "outputs": [
    {
     "name": "stdout",
     "output_type": "stream",
     "text": [
      "Produced message 1: {'': '128', 'trans_date_trans_time': '2020-06-21 12:54:52', 'cc_num': '378278619832195', 'merchant': 'fraud_Abbott-Steuber', 'category': 'personal_care', 'amt': '8.32', 'first': 'Mary', 'last': 'Mcintyre', 'gender': 'F', 'street': '77921 Costa Villages', 'city': 'Eugene', 'state': 'OR', 'zip': '97403', 'lat': '44.0385', 'long': '-123.0614', 'city_pop': '191096', 'job': 'Scientist, physiological', 'dob': '1964-04-06', 'trans_num': '5608b93eb3a58c087fc11a809718d9e1', 'unix_time': '1371819292', 'merch_lat': '43.046296000000005', 'merch_long': '-122.689361', 'is_fraud': '0', 'event_time': '2025-07-28 13:48:19'}\n",
      "Produced message 2: {'': '129', 'trans_date_trans_time': '2020-06-21 12:54:55', 'cc_num': '3513618443244549', 'merchant': 'fraud_Sporer-Keebler', 'category': 'personal_care', 'amt': '37.0', 'first': 'Amber', 'last': 'Perez', 'gender': 'F', 'street': '954 Reyes Ways', 'city': 'Fulton', 'state': 'SD', 'zip': '57340', 'lat': '43.7588', 'long': '-97.8712', 'city_pop': '355', 'job': 'Financial adviser', 'dob': '1955-06-26', 'trans_num': '0adbb8f5d6b042f32f2391d8d349cd66', 'unix_time': '1371819295', 'merch_lat': '44.398989', 'merch_long': '-97.772526', 'is_fraud': '0', 'event_time': '2025-07-28 13:48:25'}\n",
      "Produced message 3: {'': '130', 'trans_date_trans_time': '2020-06-21 12:55:10', 'cc_num': '2296006538441789', 'merchant': 'fraud_Ernser-Lynch', 'category': 'food_dining', 'amt': '9.76', 'first': 'Judy', 'last': 'Hogan', 'gender': 'F', 'street': '4970 Michelle Burgs', 'city': 'Brooklyn', 'state': 'NY', 'zip': '11217', 'lat': '40.6816', 'long': '-73.9798', 'city_pop': '2504700', 'job': 'Medical sales representative', 'dob': '1999-09-01', 'trans_num': '07972757acdafdc949dd42ce5c6cf07d', 'unix_time': '1371819310', 'merch_lat': '41.402386', 'merch_long': '-73.167331', 'is_fraud': '0', 'event_time': '2025-07-28 13:48:32'}\n",
      "Produced message 4: {'': '131', 'trans_date_trans_time': '2020-06-21 12:55:14', 'cc_num': '630484879808', 'merchant': 'fraud_Reilly LLC', 'category': 'home', 'amt': '75.99', 'first': 'Ian', 'last': 'Patton', 'gender': 'M', 'street': '8088 Sherman Radial Suite 689', 'city': 'Helm', 'state': 'CA', 'zip': '93627', 'lat': '36.4992', 'long': '-120.0936', 'city_pop': '123', 'job': 'Early years teacher', 'dob': '1973-02-07', 'trans_num': '8d3e8fd863637cec9c1a3c517d2096ad', 'unix_time': '1371819314', 'merch_lat': '35.884509', 'merch_long': '-120.34964099999999', 'is_fraud': '0', 'event_time': '2025-07-28 13:48:40'}\n",
      "Produced message 5: {'': '132', 'trans_date_trans_time': '2020-06-21 12:55:19', 'cc_num': '376445266762684', 'merchant': 'fraud_Little Ltd', 'category': 'kids_pets', 'amt': '26.54', 'first': 'Rachel', 'last': 'Lowe', 'gender': 'F', 'street': '372 Jeffrey Course', 'city': 'Sutherland', 'state': 'NE', 'zip': '69165', 'lat': '41.1558', 'long': '-101.13600000000001', 'city_pop': '1789', 'job': 'Insurance broker', 'dob': '1982-02-11', 'trans_num': '01de2fecd50d677ce0a9ce87b760bd49', 'unix_time': '1371819319', 'merch_lat': '41.1231', 'merch_long': '-101.207306', 'is_fraud': '0', 'event_time': '2025-07-28 13:48:45'}\n",
      "Produced message 6: {'': '133', 'trans_date_trans_time': '2020-06-21 12:55:19', 'cc_num': '4683638447911', 'merchant': 'fraud_Gislason Group', 'category': 'travel', 'amt': '558.03', 'first': 'Daniel', 'last': 'Boyd', 'gender': 'M', 'street': '8925 Nicholas Points', 'city': 'Egan', 'state': 'LA', 'zip': '70531', 'lat': '30.250999999999998', 'long': '-92.5002', 'city_pop': '1261', 'job': 'Broadcast presenter', 'dob': '1972-07-01', 'trans_num': '95427dcec71aa88ad39bf523084d1bca', 'unix_time': '1371819319', 'merch_lat': '30.87087', 'merch_long': '-92.873036', 'is_fraud': '0', 'event_time': '2025-07-28 13:48:51'}\n",
      "Produced message 7: {'': '134', 'trans_date_trans_time': '2020-06-21 12:55:21', 'cc_num': '4503101193493052864', 'merchant': 'fraud_Stark-Koss', 'category': 'home', 'amt': '5.26', 'first': 'Katherine', 'last': 'Tucker', 'gender': 'F', 'street': '670 Le Meadows Suite 250', 'city': 'Lakeland', 'state': 'FL', 'zip': '33811', 'lat': '27.9865', 'long': '-82.0139', 'city_pop': '237282', 'job': 'Clothing/textile technologist', 'dob': '1979-07-03', 'trans_num': 'b28a70d840dae6c46bec7df6c8340cfd', 'unix_time': '1371819321', 'merch_lat': '28.642801000000002', 'merch_long': '-82.701559', 'is_fraud': '0', 'event_time': '2025-07-28 13:48:58'}\n",
      "Produced message 8: {'': '135', 'trans_date_trans_time': '2020-06-21 12:56:06', 'cc_num': '4259996134423', 'merchant': 'fraud_Crist, Jakubowski and Littel', 'category': 'home', 'amt': '46.33', 'first': 'Julie', 'last': 'Johnson', 'gender': 'F', 'street': '9331 Robert Passage Suite 327', 'city': 'Hudson', 'state': 'KS', 'zip': '67545', 'lat': '38.1485', 'long': '-98.6408', 'city_pop': '215', 'job': 'Probation officer', 'dob': '1968-11-22', 'trans_num': '51cdc787845ce5aab65a7598e5127553', 'unix_time': '1371819366', 'merch_lat': '38.908427', 'merch_long': '-99.275548', 'is_fraud': '0', 'event_time': '2025-07-28 13:49:08'}\n",
      "Produced message 9: {'': '136', 'trans_date_trans_time': '2020-06-21 12:57:44', 'cc_num': '630424987505', 'merchant': 'fraud_Kling-Ernser', 'category': 'entertainment', 'amt': '19.3', 'first': 'Jennifer', 'last': 'Black', 'gender': 'F', 'street': '2870 Bean Terrace Apt. 756', 'city': 'Thomas', 'state': 'WV', 'zip': '26292', 'lat': '39.1505', 'long': '-79.503', 'city_pop': '836', 'job': 'Forensic psychologist', 'dob': '1981-08-29', 'trans_num': '3c16826f4605f06be65c218e14321e10', 'unix_time': '1371819464', 'merch_lat': '39.097309', 'merch_long': '-79.398315', 'is_fraud': '0', 'event_time': '2025-07-28 13:49:18'}\n",
      "Produced message 10: {'': '137', 'trans_date_trans_time': '2020-06-21 12:57:52', 'cc_num': '348789608637806', 'merchant': 'fraud_Lubowitz-Walter', 'category': 'kids_pets', 'amt': '49.77', 'first': 'Megan', 'last': 'Murphy', 'gender': 'F', 'street': '53696 Laura Radial', 'city': 'Holstein', 'state': 'NE', 'zip': '68950', 'lat': '40.4542', 'long': '-98.6538', 'city_pop': '331', 'job': 'Telecommunications researcher', 'dob': '1950-08-19', 'trans_num': 'afdf2f92eb150d6b7bc274ee6ee1d378', 'unix_time': '1371819472', 'merch_lat': '39.723853999999996', 'merch_long': '-98.16341', 'is_fraud': '0', 'event_time': '2025-07-28 13:49:24'}\n",
      "Produced message 11: {'': '138', 'trans_date_trans_time': '2020-06-21 12:57:56', 'cc_num': '3587960728692500', 'merchant': 'fraud_Cronin, Kshlerin and Weber', 'category': 'health_fitness', 'amt': '109.54', 'first': 'Kathy', 'last': 'Hughes', 'gender': 'F', 'street': '02110 Lucas Freeway Suite 517', 'city': 'Battle Creek', 'state': 'IA', 'zip': '51006', 'lat': '42.3327', 'long': '-95.6045', 'city_pop': '1075', 'job': 'Teacher, early years/pre', 'dob': '1997-01-02', 'trans_num': '97a5689374259165c553e66d3a81d1f8', 'unix_time': '1371819476', 'merch_lat': '42.079377', 'merch_long': '-96.45903299999999', 'is_fraud': '0', 'event_time': '2025-07-28 13:49:30'}\n",
      "Produced message 12: {'': '139', 'trans_date_trans_time': '2020-06-21 12:58:07', 'cc_num': '6538441737335434', 'merchant': 'fraud_Upton PLC', 'category': 'entertainment', 'amt': '48.05', 'first': 'Gina', 'last': 'Grimes', 'gender': 'F', 'street': '444 Robert Mews', 'city': 'Clarks Mills', 'state': 'PA', 'zip': '16114', 'lat': '41.3851', 'long': '-80.1752', 'city_pop': '606', 'job': 'Energy manager', 'dob': '1997-09-22', 'trans_num': 'abc1f238e28693cfe3728856b2aba429', 'unix_time': '1371819487', 'merch_lat': '41.928490999999994', 'merch_long': '-80.00496600000001', 'is_fraud': '0', 'event_time': '2025-07-28 13:49:35'}\n",
      "Produced message 13: {'': '140', 'trans_date_trans_time': '2020-06-21 12:58:42', 'cc_num': '4260128500325', 'merchant': 'fraud_Kilback Group', 'category': 'food_dining', 'amt': '7.25', 'first': 'Whitney', 'last': 'Gallagher', 'gender': 'F', 'street': '0374 Courtney Islands Apt. 400', 'city': 'Deane', 'state': 'KY', 'zip': '41812', 'lat': '37.2409', 'long': '-82.7696', 'city_pop': '230', 'job': 'Conservation officer, historic buildings', 'dob': '1997-08-04', 'trans_num': 'ab7249121f58e23cdfe7073c3e44e751', 'unix_time': '1371819522', 'merch_lat': '36.578865', 'merch_long': '-83.087049', 'is_fraud': '0', 'event_time': '2025-07-28 13:49:45'}\n",
      "Produced message 14: {'': '141', 'trans_date_trans_time': '2020-06-21 12:58:49', 'cc_num': '4189814094741', 'merchant': 'fraud_Carroll PLC', 'category': 'health_fitness', 'amt': '145.44', 'first': 'Jason', 'last': 'Farmer', 'gender': 'M', 'street': '33165 Larry Walks Suite 960', 'city': 'Ragland', 'state': 'AL', 'zip': '35131', 'lat': '33.7367', 'long': '-86.1619', 'city_pop': '4159', 'job': 'Educational psychologist', 'dob': '1998-02-03', 'trans_num': '4261f223080c243558f1f5f0752e26f4', 'unix_time': '1371819529', 'merch_lat': '33.315422', 'merch_long': '-85.538494', 'is_fraud': '0', 'event_time': '2025-07-28 13:49:50'}\n",
      "Produced message 15: {'': '142', 'trans_date_trans_time': '2020-06-21 12:59:36', 'cc_num': '371009169330125', 'merchant': 'fraud_Effertz LLC', 'category': 'entertainment', 'amt': '173.09', 'first': 'Randall', 'last': 'Burgess', 'gender': 'M', 'street': '393 Carroll Route Suite 197', 'city': 'Norman Park', 'state': 'GA', 'zip': '31771', 'lat': '31.2462', 'long': '-83.6549', 'city_pop': '5666', 'job': 'Rural practice surveyor', 'dob': '2003-09-14', 'trans_num': 'e558e093053328aba4af71a4b98a9a4e', 'unix_time': '1371819576', 'merch_lat': '32.024134000000004', 'merch_long': '-84.370346', 'is_fraud': '0', 'event_time': '2025-07-28 13:49:55'}\n",
      "Produced message 16: {'': '143', 'trans_date_trans_time': '2020-06-21 12:59:43', 'cc_num': '2227671554547514', 'merchant': 'fraud_Windler LLC', 'category': 'kids_pets', 'amt': '42.21', 'first': 'Angie', 'last': 'Jones', 'gender': 'F', 'street': '6970 Blake Trail', 'city': 'Clearwater', 'state': 'FL', 'zip': '33760', 'lat': '27.9004', 'long': '-82.7152', 'city_pop': '172247', 'job': 'Geneticist, molecular', 'dob': '1979-10-22', 'trans_num': '622c606c3699ae063f4ecc8396c1ca23', 'unix_time': '1371819583', 'merch_lat': '28.51525', 'merch_long': '-81.9264', 'is_fraud': '0', 'event_time': '2025-07-28 13:50:01'}\n",
      "Produced message 17: {'': '144', 'trans_date_trans_time': '2020-06-21 13:00:07', 'cc_num': '5456776410929288', 'merchant': 'fraud_Satterfield-Lowe', 'category': 'travel', 'amt': '4.13', 'first': 'Taylor', 'last': 'Khan', 'gender': 'F', 'street': '658 Diane Glen Apt. 677', 'city': 'North Washington', 'state': 'PA', 'zip': '16048', 'lat': '41.0472', 'long': '-79.8089', 'city_pop': '139', 'job': 'Patent attorney', 'dob': '1954-05-25', 'trans_num': 'bf22bf7594e4fde6d8505583a3aa513a', 'unix_time': '1371819607', 'merch_lat': '42.039551', 'merch_long': '-80.43666999999999', 'is_fraud': '0', 'event_time': '2025-07-28 13:50:11'}\n",
      "Produced message 18: {'': '145', 'trans_date_trans_time': '2020-06-21 13:00:47', 'cc_num': '3556613125071656', 'merchant': 'fraud_Schuppe-Schuppe', 'category': 'food_dining', 'amt': '8.57', 'first': 'Jose', 'last': 'Vasquez', 'gender': 'M', 'street': '572 Davis Mountains', 'city': 'Lake Jackson', 'state': 'TX', 'zip': '77566', 'lat': '29.0393', 'long': '-95.4401', 'city_pop': '28739', 'job': 'Futures trader', 'dob': '1999-12-27', 'trans_num': '9c157efc6d10cbbe6466a1e22ab1be1c', 'unix_time': '1371819647', 'merch_lat': '28.984465000000004', 'merch_long': '-95.20166800000001', 'is_fraud': '0', 'event_time': '2025-07-28 13:50:18'}\n",
      "Produced message 19: {'': '146', 'trans_date_trans_time': '2020-06-21 13:01:05', 'cc_num': '4653879239169997', 'merchant': 'fraud_Hickle Group', 'category': 'shopping_pos', 'amt': '2.6', 'first': 'Monica', 'last': 'Tucker', 'gender': 'F', 'street': '302 Christina Islands', 'city': 'Smiths Grove', 'state': 'KY', 'zip': '42171', 'lat': '37.0581', 'long': '-86.1938', 'city_pop': '6841', 'job': 'Therapist, sports', 'dob': '1999-06-06', 'trans_num': '08e1c67ce4d29fce88699c006b5e1326', 'unix_time': '1371819665', 'merch_lat': '37.768096', 'merch_long': '-85.96479000000001', 'is_fraud': '0', 'event_time': '2025-07-28 13:50:24'}\n",
      "Produced message 20: {'': '147', 'trans_date_trans_time': '2020-06-21 13:01:16', 'cc_num': '4653879239169997', 'merchant': 'fraud_Nader-Heller', 'category': 'misc_net', 'amt': '7.01', 'first': 'Monica', 'last': 'Tucker', 'gender': 'F', 'street': '302 Christina Islands', 'city': 'Smiths Grove', 'state': 'KY', 'zip': '42171', 'lat': '37.0581', 'long': '-86.1938', 'city_pop': '6841', 'job': 'Therapist, sports', 'dob': '1999-06-06', 'trans_num': 'd538564d5f10e27d085d28a729d2d712', 'unix_time': '1371819676', 'merch_lat': '37.330453000000006', 'merch_long': '-86.371893', 'is_fraud': '0', 'event_time': '2025-07-28 13:50:31'}\n",
      "Produced message 21: {'': '148', 'trans_date_trans_time': '2020-06-21 13:01:29', 'cc_num': '6593250708747804', 'merchant': 'fraud_Auer-West', 'category': 'shopping_net', 'amt': '32.82', 'first': 'Melissa', 'last': 'Meza', 'gender': 'F', 'street': '244 Abbott Parkway', 'city': 'Loxahatchee', 'state': 'FL', 'zip': '33470', 'lat': '26.7383', 'long': '-80.27600000000001', 'city_pop': '26551', 'job': 'Paramedic', 'dob': '1977-01-04', 'trans_num': '29e429a9aa6b648608808cf528acce73', 'unix_time': '1371819689', 'merch_lat': '27.229740000000003', 'merch_long': '-79.85481899999999', 'is_fraud': '0', 'event_time': '2025-07-28 13:50:40'}\n",
      "Produced message 22: {'': '149', 'trans_date_trans_time': '2020-06-21 13:01:36', 'cc_num': '4990494243023', 'merchant': \"fraud_Lesch, D'Amore and Brown\", 'category': 'food_dining', 'amt': '6.96', 'first': 'Martin', 'last': 'Ford', 'gender': 'M', 'street': '56812 Francis Courts', 'city': 'Corriganville', 'state': 'MD', 'zip': '21524', 'lat': '39.6967', 'long': '-78.8031', 'city_pop': '626', 'job': 'Energy engineer', 'dob': '1960-12-13', 'trans_num': '4e356cf545db05d550a7fd6938b9e23d', 'unix_time': '1371819696', 'merch_lat': '39.373197', 'merch_long': '-78.936159', 'is_fraud': '0', 'event_time': '2025-07-28 13:50:49'}\n",
      "Produced message 23: {'': '150', 'trans_date_trans_time': '2020-06-21 13:01:57', 'cc_num': '3518669219150142', 'merchant': 'fraud_Barrows PLC', 'category': 'shopping_pos', 'amt': '1.8', 'first': 'Dorothy', 'last': 'Thomas', 'gender': 'F', 'street': '537 Rice Square Suite 040', 'city': 'Milford', 'state': 'OH', 'zip': '45150', 'lat': '39.1657', 'long': '-84.23299999999999', 'city_pop': '31394', 'job': 'Hospital doctor', 'dob': '1996-11-12', 'trans_num': '6423f3a9873d7b30151eeada5f6017b8', 'unix_time': '1371819717', 'merch_lat': '39.718638', 'merch_long': '-83.50840600000001', 'is_fraud': '0', 'event_time': '2025-07-28 13:50:56'}\n",
      "Produced message 24: {'': '151', 'trans_date_trans_time': '2020-06-21 13:01:59', 'cc_num': '4710826438164847414', 'merchant': \"fraud_O'Connell, Botsford and Hand\", 'category': 'home', 'amt': '63.92', 'first': 'Juan', 'last': 'Henry', 'gender': 'M', 'street': '9795 Lori Island Suite 346', 'city': 'Turner', 'state': 'MT', 'zip': '59542', 'lat': '48.8328', 'long': '-108.3961', 'city_pop': '192', 'job': 'Further education lecturer', 'dob': '1964-01-04', 'trans_num': '8f5909f09ba243baf2e2a7fe35b04d62', 'unix_time': '1371819719', 'merch_lat': '48.593996000000004', 'merch_long': '-109.34163999999998', 'is_fraud': '0', 'event_time': '2025-07-28 13:51:04'}\n",
      "Produced message 25: {'': '152', 'trans_date_trans_time': '2020-06-21 13:02:34', 'cc_num': '639023984367', 'merchant': 'fraud_Kihn Inc', 'category': 'shopping_pos', 'amt': '3.93', 'first': 'Destiny', 'last': 'Lowe', 'gender': 'F', 'street': '79472 Stevens Trace Apt. 120', 'city': 'Hannawa Falls', 'state': 'NY', 'zip': '13647', 'lat': '44.6087', 'long': '-74.9732', 'city_pop': '69', 'job': 'Chief Executive Officer', 'dob': '1991-06-05', 'trans_num': '040b4662b0dd06a0e5f7eb81d0959721', 'unix_time': '1371819754', 'merch_lat': '44.838244', 'merch_long': '-73.999716', 'is_fraud': '0', 'event_time': '2025-07-28 13:51:10'}\n",
      "Produced message 26: {'': '153', 'trans_date_trans_time': '2020-06-21 13:03:11', 'cc_num': '3517814635263522', 'merchant': 'fraud_Bode-Schuster', 'category': 'kids_pets', 'amt': '49.07', 'first': 'William', 'last': 'Cannon', 'gender': 'M', 'street': '43809 Kenneth Circles Suite 152', 'city': 'Union', 'state': 'WV', 'zip': '24983', 'lat': '37.5802', 'long': '-80.5248', 'city_pop': '2443', 'job': 'Chartered public finance accountant', 'dob': '1941-10-16', 'trans_num': '1b3c6309a57bf4c278909a3e443a69be', 'unix_time': '1371819791', 'merch_lat': '37.234253', 'merch_long': '-80.919841', 'is_fraud': '0', 'event_time': '2025-07-28 13:51:16'}\n",
      "Produced message 27: {'': '154', 'trans_date_trans_time': '2020-06-21 13:04:11', 'cc_num': '3567527758368741', 'merchant': \"fraud_O'Keefe-Wisoky\", 'category': 'food_dining', 'amt': '9.44', 'first': 'Amanda', 'last': 'Vance', 'gender': 'F', 'street': '14601 Downs Skyway Apt. 440', 'city': 'Sterling City', 'state': 'TX', 'zip': '76951', 'lat': '31.8351', 'long': '-101.0017', 'city_pop': '1143', 'job': 'Scientist, biomedical', 'dob': '1962-03-19', 'trans_num': '4fd98a1d5c20d491f465396a2fa7b7cf', 'unix_time': '1371819851', 'merch_lat': '31.580890000000004', 'merch_long': '-100.124515', 'is_fraud': '0', 'event_time': '2025-07-28 13:51:22'}\n",
      "Produced message 28: {'': '155', 'trans_date_trans_time': '2020-06-21 13:05:19', 'cc_num': '5580563567307107', 'merchant': 'fraud_Thiel-Thiel', 'category': 'entertainment', 'amt': '67.9', 'first': 'Stanley', 'last': 'Dickson', 'gender': 'M', 'street': '078 Alex Fields', 'city': 'Smock', 'state': 'PA', 'zip': '15480', 'lat': '39.9961', 'long': '-79.7678', 'city_pop': '1946', 'job': 'Charity fundraiser', 'dob': '1990-06-21', 'trans_num': 'dae3acfdc809114694a329092fa7a4ab', 'unix_time': '1371819919', 'merch_lat': '39.405308000000005', 'merch_long': '-80.276368', 'is_fraud': '0', 'event_time': '2025-07-28 13:51:31'}\n",
      "Produced message 29: {'': '156', 'trans_date_trans_time': '2020-06-21 13:05:20', 'cc_num': '4302480582202074', 'merchant': 'fraud_Conroy-Emard', 'category': 'food_dining', 'amt': '2.89', 'first': 'David', 'last': 'Rodriguez', 'gender': 'M', 'street': '821 Solis Points', 'city': 'Muskegon', 'state': 'MI', 'zip': '49440', 'lat': '43.2326', 'long': '-86.2492', 'city_pop': '128715', 'job': 'Historic buildings inspector/conservation officer', 'dob': '1995-05-25', 'trans_num': '696499e736d236354eb923e84bee46d0', 'unix_time': '1371819920', 'merch_lat': '42.771404', 'merch_long': '-86.007649', 'is_fraud': '0', 'event_time': '2025-07-28 13:51:39'}\n",
      "Produced message 30: {'': '157', 'trans_date_trans_time': '2020-06-21 13:05:42', 'cc_num': '60416207185', 'merchant': 'fraud_Kutch-Ferry', 'category': 'home', 'amt': '124.66', 'first': 'Mary', 'last': 'Diaz', 'gender': 'F', 'street': '9886 Anita Drive', 'city': 'Fort Washakie', 'state': 'WY', 'zip': '82514', 'lat': '43.0048', 'long': '-108.8964', 'city_pop': '1645', 'job': 'Information systems manager', 'dob': '1986-02-17', 'trans_num': 'f21e1a09f59c50a66735409308285b1d', 'unix_time': '1371819942', 'merch_lat': '42.945526', 'merch_long': '-108.530901', 'is_fraud': '0', 'event_time': '2025-07-28 13:51:47'}\n",
      "Produced message 31: {'': '158', 'trans_date_trans_time': '2020-06-21 13:05:55', 'cc_num': '4044436772018844508', 'merchant': 'fraud_Donnelly LLC', 'category': 'entertainment', 'amt': '147.98', 'first': 'Amy', 'last': 'Abbott', 'gender': 'F', 'street': '01505 Amy Stravenue', 'city': 'Dayton', 'state': 'OH', 'zip': '45415', 'lat': '39.8355', 'long': '-84.2613', 'city_pop': '479994', 'job': 'Environmental manager', 'dob': '1970-11-09', 'trans_num': 'f98bb52a6572081f4f36c75e1e17419a', 'unix_time': '1371819955', 'merch_lat': '39.990538', 'merch_long': '-83.772467', 'is_fraud': '0', 'event_time': '2025-07-28 13:51:53'}\n",
      "Produced message 32: {'': '159', 'trans_date_trans_time': '2020-06-21 13:06:10', 'cc_num': '3577663406369449', 'merchant': 'fraud_Swaniawski, Nitzsche and Welch', 'category': 'health_fitness', 'amt': '12.32', 'first': 'Cody', 'last': 'Hooper', 'gender': 'M', 'street': '7233 John Parks', 'city': 'Lepanto', 'state': 'AR', 'zip': '72354', 'lat': '35.6069', 'long': '-90.3359', 'city_pop': '2470', 'job': 'Counselling psychologist', 'dob': '1968-10-06', 'trans_num': 'e425481e14107e857910b3112ffd09c2', 'unix_time': '1371819970', 'merch_lat': '36.366507', 'merch_long': '-89.559427', 'is_fraud': '0', 'event_time': '2025-07-28 13:51:59'}\n",
      "Produced message 33: {'': '160', 'trans_date_trans_time': '2020-06-21 13:06:31', 'cc_num': '4119762878330989', 'merchant': 'fraud_Weimann-Lockman', 'category': 'kids_pets', 'amt': '96.19', 'first': 'Melinda', 'last': 'Gutierrez', 'gender': 'F', 'street': '1497 West Gateway', 'city': 'Eureka', 'state': 'IL', 'zip': '61530', 'lat': '40.7152', 'long': '-89.2706', 'city_pop': '6713', 'job': 'Archivist', 'dob': '1945-08-19', 'trans_num': 'e5b8b489e92f287af65bda03af02f030', 'unix_time': '1371819991', 'merch_lat': '41.264839', 'merch_long': '-89.537983', 'is_fraud': '0', 'event_time': '2025-07-28 13:52:04'}\n",
      "Stopping producer ...\n",
      "Producer stopped\n"
     ]
    }
   ],
   "source": [
    "try:\n",
    "    for i, row in enumerate(stream_reader(csv_path), 1):\n",
    "        producer.send(topic_name, value=row)\n",
    "        producer.flush()\n",
    "        print(f\"Produced message {i}: {row}\")\n",
    "except KeyboardInterrupt:\n",
    "    print(\"Stopping producer ...\\nProducer stopped\")\n",
    "finally:\n",
    "    producer.flush()\n",
    "    producer.close()\n",
    "    #admin_client.close()"
   ]
  },
  {
   "cell_type": "code",
   "execution_count": null,
   "id": "9183cffc-ce28-47c1-815f-5daf937f1f0a",
   "metadata": {},
   "outputs": [],
   "source": [
    "# # if you want to start from zero \n",
    "# save_status(0)\n"
   ]
  },
  {
   "cell_type": "code",
   "execution_count": null,
   "id": "8f8fc02f-9844-4167-add3-304a0837ccca",
   "metadata": {},
   "outputs": [],
   "source": []
  }
 ],
 "metadata": {
  "kernelspec": {
   "display_name": "Python 3 (ipykernel)",
   "language": "python",
   "name": "python3"
  },
  "language_info": {
   "codemirror_mode": {
    "name": "ipython",
    "version": 3
   },
   "file_extension": ".py",
   "mimetype": "text/x-python",
   "name": "python",
   "nbconvert_exporter": "python",
   "pygments_lexer": "ipython3",
   "version": "3.11.6"
  }
 },
 "nbformat": 4,
 "nbformat_minor": 5
}
