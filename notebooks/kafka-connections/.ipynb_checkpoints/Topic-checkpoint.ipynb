{
 "cells": [
  {
   "cell_type": "code",
   "execution_count": 1,
   "id": "8d510321-2af6-404c-a6e7-9d891e8e2e50",
   "metadata": {},
   "outputs": [
    {
     "name": "stdout",
     "output_type": "stream",
     "text": [
      "Collecting kafka-python\n",
      "  Downloading kafka_python-2.2.15-py2.py3-none-any.whl.metadata (10.0 kB)\n",
      "Downloading kafka_python-2.2.15-py2.py3-none-any.whl (309 kB)\n",
      "\u001b[2K   \u001b[90m━━━━━━━━━━━━━━━━━━━━━━━━━━━━━━━━━━━━━━━━\u001b[0m \u001b[32m309.8/309.8 kB\u001b[0m \u001b[31m1.4 MB/s\u001b[0m eta \u001b[36m0:00:00\u001b[0m00:01\u001b[0m00:01\u001b[0mm\n",
      "\u001b[?25hInstalling collected packages: kafka-python\n",
      "Successfully installed kafka-python-2.2.15\n"
     ]
    }
   ],
   "source": [
    "!pip install kafka-python\n",
    "from kafka import KafkaProducer\n",
    "from kafka.admin import KafkaAdminClient, NewTopic\n",
    "import csv\n",
    "import json\n",
    "import time\n",
    "from datetime import datetime\n",
    "\n",
    "topic_name = \"credit_card_trans\"\n",
    "bootstrap_servers = \"kafka_v2:9092\"\n",
    "csv_path = \"fraudTest.csv\" "
   ]
  },
  {
   "cell_type": "code",
   "execution_count": 4,
   "id": "811dcaa9-6899-4885-80b0-b3b5a5a5d492",
   "metadata": {},
   "outputs": [
    {
     "name": "stdout",
     "output_type": "stream",
     "text": [
      "Topic 'credit_card_trans' already exists.\n"
     ]
    }
   ],
   "source": [
    "admin_client = KafkaAdminClient(bootstrap_servers=bootstrap_servers, client_id='credit_card_trans')\n",
    "topics = admin_client.list_topics()\n",
    "\n",
    "if topic_name not in topics:\n",
    "    topic = NewTopic(name=topic_name, num_partitions=1, replication_factor=1)\n",
    "    admin_client.create_topics(new_topics=[topic])\n",
    "    print(f\"Topic '{topic_name}' created.\")\n",
    "else:\n",
    "    print(f\"Topic '{topic_name}' already exists.\")"
   ]
  },
  {
   "cell_type": "code",
   "execution_count": 15,
   "id": "642da485-a8fe-4aff-b2f6-5089075a76b0",
   "metadata": {},
   "outputs": [
    {
     "data": {
      "text/plain": [
       "DeleteTopicsResponse_v3(throttle_time_ms=0, topic_error_codes=[(topic='credit_card_trans', error_code=0)])"
      ]
     },
     "execution_count": 15,
     "metadata": {},
     "output_type": "execute_result"
    }
   ],
   "source": [
    "admin_client.delete_topics([\"credit_card_trans\"])"
   ]
  },
  {
   "cell_type": "code",
   "execution_count": null,
   "id": "ed8c2f88-6270-4e9d-b43f-c556ff468770",
   "metadata": {},
   "outputs": [],
   "source": []
  }
 ],
 "metadata": {
  "kernelspec": {
   "display_name": "Python 3 (ipykernel)",
   "language": "python",
   "name": "python3"
  },
  "language_info": {
   "codemirror_mode": {
    "name": "ipython",
    "version": 3
   },
   "file_extension": ".py",
   "mimetype": "text/x-python",
   "name": "python",
   "nbconvert_exporter": "python",
   "pygments_lexer": "ipython3",
   "version": "3.11.6"
  }
 },
 "nbformat": 4,
 "nbformat_minor": 5
}
