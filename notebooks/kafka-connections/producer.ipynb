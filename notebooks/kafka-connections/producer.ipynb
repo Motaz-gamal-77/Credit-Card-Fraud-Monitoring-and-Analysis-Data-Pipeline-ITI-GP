{
 "cells": [
  {
   "cell_type": "code",
   "execution_count": 1,
   "id": "caaa153c-4af9-4918-982f-87cc540351e5",
   "metadata": {
    "papermill": {
     "duration": 0.064317,
     "end_time": "2025-08-13T13:52:21.314811",
     "exception": false,
     "start_time": "2025-08-13T13:52:21.250494",
     "status": "completed"
    },
    "tags": []
   },
   "outputs": [],
   "source": [
    "from kafka import KafkaProducer\n",
    "import csv\n",
    "import json\n",
    "import time\n",
    "from datetime import datetime\n",
    "import random"
   ]
  },
  {
   "cell_type": "code",
   "execution_count": 2,
   "id": "72a85651",
   "metadata": {
    "papermill": {
     "duration": 0.021056,
     "end_time": "2025-08-13T13:52:21.338458",
     "exception": false,
     "start_time": "2025-08-13T13:52:21.317402",
     "status": "completed"
    },
    "tags": []
   },
   "outputs": [],
   "source": [
    "# Kafka producer configuration\n",
    "topic_name = \"credit_card_trans\"\n",
    "bootstrap_servers = \"kafka_v2:9092\"\n",
    "csv_path = \"/opt/airflow/data/fraudTest.csv\" "
   ]
  },
  {
   "cell_type": "code",
   "execution_count": 3,
   "id": "23effe26-db01-46b7-81f7-019a7c144d79",
   "metadata": {
    "papermill": {
     "duration": 0.012971,
     "end_time": "2025-08-13T13:52:21.353365",
     "exception": false,
     "start_time": "2025-08-13T13:52:21.340394",
     "status": "completed"
    },
    "tags": []
   },
   "outputs": [],
   "source": [
    "# Create a Kafka producer instance\n",
    "producer = KafkaProducer(\n",
    "    bootstrap_servers=bootstrap_servers,\n",
    "    value_serializer=lambda v: json.dumps(v).encode(\"utf-8\")  \n",
    ")"
   ]
  },
  {
   "cell_type": "code",
   "execution_count": 4,
   "id": "f20e5240-8ccb-496f-9fbb-345767e950ac",
   "metadata": {
    "papermill": {
     "duration": 0.009685,
     "end_time": "2025-08-13T13:52:21.364717",
     "exception": false,
     "start_time": "2025-08-13T13:52:21.355032",
     "status": "completed"
    },
    "tags": []
   },
   "outputs": [],
   "source": [
    "# Save the last processed row number to a file\n",
    "def save_status(row_num) : \n",
    "    with open(\"/opt/airflow/data/state.json\", \"w\") as f:\n",
    "        json.dump({\"last_id\" : row_num}, f) \n",
    "\n",
    "# Load the last processed row number from a file\n",
    "def load_status():\n",
    "    try:\n",
    "        with open(\"/opt/airflow/data/state.json\", \"r\") as f:\n",
    "            state = json.load(f)\n",
    "            return state.get(\"last_id\", 0)\n",
    "    except FileNotFoundError:\n",
    "        return 0  \n",
    "    \n",
    "# Stream CSV rows with status tracking\n",
    "def stream_reader(path): \n",
    "    row_num = load_status()\n",
    "\n",
    "    with open(path, \"r\") as f:\n",
    "        reader = csv.DictReader(f)\n",
    "        for i, row in enumerate(reader):\n",
    "            if i < row_num:\n",
    "                continue  # Skip already processed rows\n",
    "            \n",
    "            row['event_time'] = datetime.now().strftime('%Y-%m-%d %H:%M:%S')\n",
    "            save_status(i + 1)\n",
    "            yield row\n",
    "\n",
    "            delay = random.randint(1, 3)\n",
    "            time.sleep(delay)\n",
    "    "
   ]
  },
  {
   "cell_type": "code",
   "execution_count": null,
   "id": "5e6c60ea-5695-4708-b351-80e400631f5a",
   "metadata": {
    "papermill": {
     "duration": null,
     "end_time": null,
     "exception": false,
     "start_time": "2025-08-13T13:52:21.366646",
     "status": "running"
    },
    "tags": []
   },
   "outputs": [],
   "source": [
    "# Main loop to produce messages\n",
    "try:\n",
    "    for i, row in enumerate(stream_reader(csv_path), 1):\n",
    "        producer.send(topic_name, value=row)\n",
    "        producer.flush()\n",
    "    print(f\"Produced message {i}: {row}\")\n",
    "except KeyboardInterrupt:\n",
    "    print(f\"Produced message {i}: {row}\")\n",
    "    print(\"Stopping producer ...\\nProducer stopped\")\n",
    "    \n",
    "finally:\n",
    "    producer.flush()\n",
    "    producer.close()\n",
    "    #admin_client.close()"
   ]
  },
  {
   "cell_type": "code",
   "execution_count": null,
   "id": "9183cffc-ce28-47c1-815f-5daf937f1f0a",
   "metadata": {
    "papermill": {
     "duration": null,
     "end_time": null,
     "exception": null,
     "start_time": null,
     "status": "pending"
    },
    "tags": []
   },
   "outputs": [],
   "source": [
    "# if you want to start from zero \n",
    "# save_status(0)\n",
    "# "
   ]
  }
 ],
 "metadata": {
  "kernelspec": {
   "display_name": "Python 3 (ipykernel)",
   "language": "python",
   "name": "python3"
  },
  "language_info": {
   "codemirror_mode": {
    "name": "ipython",
    "version": 3
   },
   "file_extension": ".py",
   "mimetype": "text/x-python",
   "name": "python",
   "nbconvert_exporter": "python",
   "pygments_lexer": "ipython3",
   "version": "3.11.6"
  },
  "papermill": {
   "default_parameters": {},
   "duration": null,
   "end_time": null,
   "environment_variables": {},
   "exception": null,
   "input_path": "/home/jovyan/work/kafka-connections/producer.ipynb",
   "output_path": "/home/jovyan/work/kafka-connections/producer.ipynb",
   "parameters": {},
   "start_time": "2025-08-13T13:52:19.495081",
   "version": "2.6.0"
  }
 },
 "nbformat": 4,
 "nbformat_minor": 5
}
