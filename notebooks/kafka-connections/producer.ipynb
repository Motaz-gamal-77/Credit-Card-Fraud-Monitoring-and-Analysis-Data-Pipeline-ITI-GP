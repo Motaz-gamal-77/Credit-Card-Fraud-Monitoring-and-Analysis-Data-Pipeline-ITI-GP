{
 "cells": [
  {
   "cell_type": "code",
   "execution_count": null,
   "id": "caaa153c-4af9-4918-982f-87cc540351e5",
   "metadata": {},
   "outputs": [],
   "source": [
    "from kafka import KafkaProducer\n",
    "import csv\n",
    "import json\n",
    "import time\n",
    "from datetime import datetime\n",
    "import random"
   ]
  },
  {
   "cell_type": "code",
   "execution_count": null,
   "id": "72a85651",
   "metadata": {},
   "outputs": [],
   "source": [
    "# Kafka producer configuration\n",
    "topic_name = \"credit_card_trans\"\n",
    "bootstrap_servers = \"kafka_v2:9092\"\n",
    "csv_path = \"/opt/airflow/data/fraudTest.csv\" "
   ]
  },
  {
   "cell_type": "code",
   "execution_count": null,
   "id": "23effe26-db01-46b7-81f7-019a7c144d79",
   "metadata": {},
   "outputs": [],
   "source": [
    "# Create a Kafka producer instance\n",
    "producer = KafkaProducer(\n",
    "    bootstrap_servers=bootstrap_servers,\n",
    "    value_serializer=lambda v: json.dumps(v).encode(\"utf-8\")  \n",
    ")"
   ]
  },
  {
   "cell_type": "code",
   "execution_count": null,
   "id": "f20e5240-8ccb-496f-9fbb-345767e950ac",
   "metadata": {},
   "outputs": [],
   "source": [
    "# def stream_csv_rows(path):\n",
    "#     with open(path, newline='', encoding='utf-8') as csv_file:\n",
    "#             reader = csv.DictReader(csv_file)\n",
    "#             for row in reader:\n",
    "#                 row['event_time'] = datetime.now().strftime('%Y-%m-%d %H:%M:%S')\n",
    "#                 yield row\n",
    "#                 delay = random.randint(5, 10)\n",
    "#                 time.sleep(delay)\n",
    "\n",
    "# Save the last processed row number to a file\n",
    "def save_status(row_num) : \n",
    "    with open(\"/opt/airflow/data/state.json\", \"w\") as f:\n",
    "        json.dump({\"last_id\" : row_num}, f) \n",
    "\n",
    "# Load the last processed row number from a file\n",
    "def load_status():\n",
    "    try:\n",
    "        with open(\"/opt/airflow/data/state.json\", \"r\") as f:\n",
    "            state = json.load(f)\n",
    "            return state.get(\"last_id\", 0)\n",
    "    except FileNotFoundError:\n",
    "        return 0  \n",
    "    \n",
    "# Stream CSV rows with status tracking\n",
    "def stream_reader(path): \n",
    "    row_num = load_status()\n",
    "\n",
    "    with open(path, \"r\") as f:\n",
    "        reader = csv.DictReader(f)\n",
    "        for i, row in enumerate(reader):\n",
    "            if i < row_num:\n",
    "                continue  # Skip already processed rows\n",
    "            \n",
    "            row['event_time'] = datetime.now().strftime('%Y-%m-%d %H:%M:%S')\n",
    "            save_status(i + 1)\n",
    "            yield row\n",
    "\n",
    "            delay = random.randint(1, 3)\n",
    "            time.sleep(delay)\n",
    "    "
   ]
  },
  {
   "cell_type": "code",
   "execution_count": null,
   "id": "5e6c60ea-5695-4708-b351-80e400631f5a",
   "metadata": {},
   "outputs": [
    {
     "name": "stdout",
     "output_type": "stream",
     "text": [
      "Produced message 1: {'': '0', 'trans_date_trans_time': '2020-06-21 12:14:25', 'cc_num': '2291163933867244', 'merchant': 'fraud_Kirlin and Sons', 'category': 'personal_care', 'amt': '2.86', 'first': 'Jeff', 'last': 'Elliott', 'gender': 'M', 'street': '351 Darlene Green', 'city': 'Columbia', 'state': 'South Carolina', 'zip': '29209', 'lat': '33.9659', 'long': '-80.9355', 'city_pop': '333497', 'job': 'Mechanical engineer', 'dob': '1968-03-19', 'trans_num': '2da90c7d74bd46a0caf3777415b3ebd3', 'unix_time': '1371816865', 'merch_lat': '33.986391', 'merch_long': '-81.200714', 'is_fraud': '0', 'event_time': '2025-07-28 18:59:31'}\n"
     ]
    }
   ],
   "source": [
    "# Main loop to produce messages\n",
    "try:\n",
    "    for i, row in enumerate(stream_reader(csv_path), 1):\n",
    "        producer.send(topic_name, value=row)\n",
    "        producer.flush()\n",
    "        #print(f\"Produced message {i}: {row}\")\n",
    "except KeyboardInterrupt:\n",
    "    print(\"Stopping producer ...\\nProducer stopped\")\n",
    "finally:\n",
    "    producer.flush()\n",
    "    producer.close()\n",
    "    #admin_client.close()"
   ]
  },
  {
   "cell_type": "code",
   "execution_count": null,
   "id": "9183cffc-ce28-47c1-815f-5daf937f1f0a",
   "metadata": {},
   "outputs": [],
   "source": [
    "# if you want to start from zero \n",
    "# save_status(0)\n",
    "# "
   ]
  },
  {
   "cell_type": "code",
   "execution_count": null,
   "id": "8f8fc02f-9844-4167-add3-304a0837ccca",
   "metadata": {},
   "outputs": [],
   "source": []
  }
 ],
 "metadata": {
  "kernelspec": {
   "display_name": "Python 3 (ipykernel)",
   "language": "python",
   "name": "python3"
  },
  "language_info": {
   "codemirror_mode": {
    "name": "ipython",
    "version": 3
   },
   "file_extension": ".py",
   "mimetype": "text/x-python",
   "name": "python",
   "nbconvert_exporter": "python",
   "pygments_lexer": "ipython3",
   "version": "3.11.6"
  }
 },
 "nbformat": 4,
 "nbformat_minor": 5
}
