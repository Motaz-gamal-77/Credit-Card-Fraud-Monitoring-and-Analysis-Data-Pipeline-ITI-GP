{
 "cells": [
  {
   "cell_type": "code",
   "execution_count": 1,
   "id": "8d510321-2af6-404c-a6e7-9d891e8e2e50",
   "metadata": {
    "execution": {
     "iopub.execute_input": "2025-08-13T13:52:16.304493Z",
     "iopub.status.busy": "2025-08-13T13:52:16.303833Z",
     "iopub.status.idle": "2025-08-13T13:52:17.963772Z",
     "shell.execute_reply": "2025-08-13T13:52:17.963034Z"
    },
    "papermill": {
     "duration": 1.663845,
     "end_time": "2025-08-13T13:52:17.965187",
     "exception": false,
     "start_time": "2025-08-13T13:52:16.301342",
     "status": "completed"
    },
    "tags": []
   },
   "outputs": [
    {
     "name": "stdout",
     "output_type": "stream",
     "text": [
      "Requirement already satisfied: kafka-python in /opt/conda/lib/python3.11/site-packages (2.2.15)\r\n"
     ]
    }
   ],
   "source": [
    "!pip install kafka-python\n",
    "from kafka import KafkaProducer\n",
    "from kafka.admin import KafkaAdminClient, NewTopic\n",
    "import csv\n",
    "import json\n",
    "import time\n",
    "from datetime import datetime\n"
   ]
  },
  {
   "cell_type": "code",
   "execution_count": 2,
   "id": "54a11938-bb10-4dfb-b47d-e9e041a0bd78",
   "metadata": {
    "execution": {
     "iopub.execute_input": "2025-08-13T13:52:17.969390Z",
     "iopub.status.busy": "2025-08-13T13:52:17.968902Z",
     "iopub.status.idle": "2025-08-13T13:52:17.971714Z",
     "shell.execute_reply": "2025-08-13T13:52:17.971147Z"
    },
    "papermill": {
     "duration": 0.006184,
     "end_time": "2025-08-13T13:52:17.972772",
     "exception": false,
     "start_time": "2025-08-13T13:52:17.966588",
     "status": "completed"
    },
    "tags": []
   },
   "outputs": [],
   "source": [
    "topic_name = \"credit_card_trans\"\n",
    "bootstrap_servers = \"kafka_v2:9092\"\n",
    "csv_path = \"fraudTest.csv\" "
   ]
  },
  {
   "cell_type": "code",
   "execution_count": 3,
   "id": "811dcaa9-6899-4885-80b0-b3b5a5a5d492",
   "metadata": {
    "execution": {
     "iopub.execute_input": "2025-08-13T13:52:17.975875Z",
     "iopub.status.busy": "2025-08-13T13:52:17.975700Z",
     "iopub.status.idle": "2025-08-13T13:52:17.989120Z",
     "shell.execute_reply": "2025-08-13T13:52:17.988615Z"
    },
    "papermill": {
     "duration": 0.01622,
     "end_time": "2025-08-13T13:52:17.990238",
     "exception": false,
     "start_time": "2025-08-13T13:52:17.974018",
     "status": "completed"
    },
    "tags": []
   },
   "outputs": [
    {
     "name": "stdout",
     "output_type": "stream",
     "text": [
      "Topic 'credit_card_trans' already exists.\n"
     ]
    }
   ],
   "source": [
    "admin_client = KafkaAdminClient(bootstrap_servers=bootstrap_servers, client_id='credit_card_trans')\n",
    "topics = admin_client.list_topics()\n",
    "\n",
    "if topic_name not in topics:\n",
    "    topic = NewTopic(name=topic_name, num_partitions=1, replication_factor=1)\n",
    "    admin_client.create_topics(new_topics=[topic])\n",
    "    print(f\"Topic '{topic_name}' created.\")\n",
    "else:\n",
    "    print(f\"Topic '{topic_name}' already exists.\")"
   ]
  },
  {
   "cell_type": "code",
   "execution_count": 4,
   "id": "642da485-a8fe-4aff-b2f6-5089075a76b0",
   "metadata": {
    "execution": {
     "iopub.execute_input": "2025-08-13T13:52:17.994211Z",
     "iopub.status.busy": "2025-08-13T13:52:17.993891Z",
     "iopub.status.idle": "2025-08-13T13:52:18.011629Z",
     "shell.execute_reply": "2025-08-13T13:52:18.010719Z"
    },
    "papermill": {
     "duration": 0.021315,
     "end_time": "2025-08-13T13:52:18.012844",
     "exception": false,
     "start_time": "2025-08-13T13:52:17.991529",
     "status": "completed"
    },
    "tags": []
   },
   "outputs": [
    {
     "data": {
      "text/plain": [
       "DeleteTopicsResponse_v3(throttle_time_ms=0, topic_error_codes=[(topic='credit_card_trans', error_code=0)])"
      ]
     },
     "execution_count": 4,
     "metadata": {},
     "output_type": "execute_result"
    }
   ],
   "source": [
    "admin_client.delete_topics([\"credit_card_trans\"])"
   ]
  },
  {
   "cell_type": "code",
   "execution_count": null,
   "id": "ed8c2f88-6270-4e9d-b43f-c556ff468770",
   "metadata": {
    "papermill": {
     "duration": 0.001257,
     "end_time": "2025-08-13T13:52:18.015425",
     "exception": false,
     "start_time": "2025-08-13T13:52:18.014168",
     "status": "completed"
    },
    "tags": []
   },
   "outputs": [],
   "source": []
  }
 ],
 "metadata": {
  "kernelspec": {
   "display_name": "Python 3 (ipykernel)",
   "language": "python",
   "name": "python3"
  },
  "language_info": {
   "codemirror_mode": {
    "name": "ipython",
    "version": 3
   },
   "file_extension": ".py",
   "mimetype": "text/x-python",
   "name": "python",
   "nbconvert_exporter": "python",
   "pygments_lexer": "ipython3",
   "version": "3.11.6"
  },
  "papermill": {
   "default_parameters": {},
   "duration": 2.783373,
   "end_time": "2025-08-13T13:52:18.233012",
   "environment_variables": {},
   "exception": null,
   "input_path": "/home/jovyan/work/kafka-connections/Topic.ipynb",
   "output_path": "/home/jovyan/work/kafka-connections/Topic.ipynb",
   "parameters": {},
   "start_time": "2025-08-13T13:52:15.449639",
   "version": "2.6.0"
  }
 },
 "nbformat": 4,
 "nbformat_minor": 5
}