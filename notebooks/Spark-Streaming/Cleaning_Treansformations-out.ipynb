{
 "cells": [
  {
   "cell_type": "code",
   "execution_count": 1,
   "id": "cc05834d-480c-4e11-b8ee-4f9127966d8a",
   "metadata": {
    "execution": {
     "iopub.execute_input": "2025-07-31T15:51:28.541735Z",
     "iopub.status.busy": "2025-07-31T15:51:28.541305Z",
     "iopub.status.idle": "2025-07-31T15:51:29.058240Z",
     "shell.execute_reply": "2025-07-31T15:51:29.057319Z"
    },
    "papermill": {
     "duration": 0.52993,
     "end_time": "2025-07-31T15:51:29.060019",
     "exception": false,
     "start_time": "2025-07-31T15:51:28.530089",
     "status": "completed"
    },
    "tags": []
   },
   "outputs": [],
   "source": [
    "from pyspark.sql import SparkSession\n",
    "from pyspark.sql.functions import *\n",
    "from pyspark.sql.types import *\n",
    "import math"
   ]
  },
  {
   "cell_type": "code",
   "execution_count": 2,
   "id": "cb10dc90-8383-4681-808d-9f06c53d0819",
   "metadata": {
    "execution": {
     "iopub.execute_input": "2025-07-31T15:51:29.078018Z",
     "iopub.status.busy": "2025-07-31T15:51:29.077511Z",
     "iopub.status.idle": "2025-07-31T15:51:35.247106Z",
     "shell.execute_reply": "2025-07-31T15:51:35.246026Z"
    },
    "papermill": {
     "duration": 6.179558,
     "end_time": "2025-07-31T15:51:35.248539",
     "exception": false,
     "start_time": "2025-07-31T15:51:29.068981",
     "status": "completed"
    },
    "tags": []
   },
   "outputs": [],
   "source": [
    "spark = SparkSession.builder \\\n",
    "    .appName(\"KafkaStreamReader\") \\\n",
    "    .config(\"spark.streaming.stopGracefullyOnShutdown\", True) \\\n",
    "    .config('spark.jars.packages', 'org.apache.spark:spark-sql-kafka-0-10_2.12:3.5.0') \\\n",
    "    .config(\"spark.sql.shuffle.partitions\", 4) \\\n",
    "    .getOrCreate()"
   ]
  },
  {
   "cell_type": "code",
   "execution_count": 3,
   "id": "b490b0c8-624c-4a3c-a242-061f56c4afd8",
   "metadata": {
    "execution": {
     "iopub.execute_input": "2025-07-31T15:51:35.272152Z",
     "iopub.status.busy": "2025-07-31T15:51:35.271905Z",
     "iopub.status.idle": "2025-07-31T15:51:36.857555Z",
     "shell.execute_reply": "2025-07-31T15:51:36.856442Z"
    },
    "papermill": {
     "duration": 1.601271,
     "end_time": "2025-07-31T15:51:36.859854",
     "exception": false,
     "start_time": "2025-07-31T15:51:35.258583",
     "status": "completed"
    },
    "tags": []
   },
   "outputs": [],
   "source": [
    "kafka_df  = spark.readStream \\\n",
    "    .format(\"kafka\") \\\n",
    "    .option(\"kafka.bootstrap.servers\", \"kafka_v2:9092\") \\\n",
    "    .option(\"subscribe\", \"credit_card_trans\") \\\n",
    "    .option(\"startingOffsets\", \"earliest\") \\\n",
    "    .option(\"failOnDataLoss\", \"false\") \\\n",
    "    .load()"
   ]
  },
  {
   "cell_type": "code",
   "execution_count": 4,
   "id": "9aad5e42-b6ec-4bdf-b2e7-2b19e5328050",
   "metadata": {
    "execution": {
     "iopub.execute_input": "2025-07-31T15:51:36.887156Z",
     "iopub.status.busy": "2025-07-31T15:51:36.886907Z",
     "iopub.status.idle": "2025-07-31T15:51:36.919864Z",
     "shell.execute_reply": "2025-07-31T15:51:36.918218Z"
    },
    "papermill": {
     "duration": 0.047674,
     "end_time": "2025-07-31T15:51:36.922650",
     "exception": false,
     "start_time": "2025-07-31T15:51:36.874976",
     "status": "completed"
    },
    "tags": []
   },
   "outputs": [
    {
     "name": "stdout",
     "output_type": "stream",
     "text": [
      "root\n",
      " |-- key: binary (nullable = true)\n",
      " |-- value: binary (nullable = true)\n",
      " |-- topic: string (nullable = true)\n",
      " |-- partition: integer (nullable = true)\n",
      " |-- offset: long (nullable = true)\n",
      " |-- timestamp: timestamp (nullable = true)\n",
      " |-- timestampType: integer (nullable = true)\n",
      "\n"
     ]
    }
   ],
   "source": [
    "kafka_df.printSchema()"
   ]
  },
  {
   "cell_type": "code",
   "execution_count": 5,
   "id": "eb251f21-01e1-4676-aa95-ce825f696990",
   "metadata": {
    "execution": {
     "iopub.execute_input": "2025-07-31T15:51:36.951064Z",
     "iopub.status.busy": "2025-07-31T15:51:36.949941Z",
     "iopub.status.idle": "2025-07-31T15:51:37.067604Z",
     "shell.execute_reply": "2025-07-31T15:51:37.066203Z"
    },
    "papermill": {
     "duration": 0.134067,
     "end_time": "2025-07-31T15:51:37.070271",
     "exception": false,
     "start_time": "2025-07-31T15:51:36.936204",
     "status": "completed"
    },
    "tags": []
   },
   "outputs": [],
   "source": [
    "# Kafka message is in binary, so cast it to string\n",
    "value_df = kafka_df.selectExpr(\"CAST(value AS STRING) as json_str\")"
   ]
  },
  {
   "cell_type": "code",
   "execution_count": 6,
   "id": "e64b5d20-a5ff-4db1-aac7-3505021e92e1",
   "metadata": {
    "execution": {
     "iopub.execute_input": "2025-07-31T15:51:37.094548Z",
     "iopub.status.busy": "2025-07-31T15:51:37.094037Z",
     "iopub.status.idle": "2025-07-31T15:51:37.105112Z",
     "shell.execute_reply": "2025-07-31T15:51:37.103631Z"
    },
    "papermill": {
     "duration": 0.024942,
     "end_time": "2025-07-31T15:51:37.107158",
     "exception": false,
     "start_time": "2025-07-31T15:51:37.082216",
     "status": "completed"
    },
    "tags": []
   },
   "outputs": [],
   "source": [
    "schema = StructType([\n",
    "    StructField(\"\", StringType(), True),\n",
    "    StructField(\"trans_date_trans_time\", StringType(), True),\n",
    "    StructField(\"cc_num\", StringType(), True),\n",
    "    StructField(\"merchant\", StringType(), True),\n",
    "    StructField(\"category\", StringType(), True),\n",
    "    StructField(\"amt\", StringType(), True),\n",
    "    StructField(\"first\", StringType(), True),\n",
    "    StructField(\"last\", StringType(), True),\n",
    "    StructField(\"gender\", StringType(), True),\n",
    "    StructField(\"street\", StringType(), True),\n",
    "    StructField(\"city\", StringType(), True),\n",
    "    StructField(\"state\", StringType(), True),\n",
    "    StructField(\"zip\", StringType(), True),\n",
    "    StructField(\"lat\", StringType(), True),\n",
    "    StructField(\"long\", StringType(), True),\n",
    "    StructField(\"city_pop\", StringType(), True),\n",
    "    StructField(\"job\", StringType(), True),\n",
    "    StructField(\"dob\", StringType(), True),\n",
    "    StructField(\"trans_num\", StringType(), True),\n",
    "    StructField(\"unix_time\", StringType(), True),\n",
    "    StructField(\"merch_lat\", StringType(), True),\n",
    "    StructField(\"merch_long\", StringType(), True),\n",
    "    StructField(\"is_fraud\", StringType(), True),\n",
    "    StructField(\"event_time\",StringType(),True)\n",
    "])"
   ]
  },
  {
   "cell_type": "code",
   "execution_count": 7,
   "id": "7566e4e5-5260-4867-a13c-c72bb13586f4",
   "metadata": {
    "execution": {
     "iopub.execute_input": "2025-07-31T15:51:37.132893Z",
     "iopub.status.busy": "2025-07-31T15:51:37.131873Z",
     "iopub.status.idle": "2025-07-31T15:51:37.378858Z",
     "shell.execute_reply": "2025-07-31T15:51:37.377914Z"
    },
    "papermill": {
     "duration": 0.261871,
     "end_time": "2025-07-31T15:51:37.381004",
     "exception": false,
     "start_time": "2025-07-31T15:51:37.119133",
     "status": "completed"
    },
    "tags": []
   },
   "outputs": [],
   "source": [
    "parsed_df = value_df.select(from_json(col(\"json_str\"), schema).alias(\"data\")).select(\"data.*\")"
   ]
  },
  {
   "cell_type": "code",
   "execution_count": 8,
   "id": "b19eaada-176a-43e8-8e0e-8bb1ad716b03",
   "metadata": {
    "execution": {
     "iopub.execute_input": "2025-07-31T15:51:37.409272Z",
     "iopub.status.busy": "2025-07-31T15:51:37.408710Z",
     "iopub.status.idle": "2025-07-31T15:51:37.531501Z",
     "shell.execute_reply": "2025-07-31T15:51:37.530498Z"
    },
    "papermill": {
     "duration": 0.142703,
     "end_time": "2025-07-31T15:51:37.535015",
     "exception": false,
     "start_time": "2025-07-31T15:51:37.392312",
     "status": "completed"
    },
    "tags": []
   },
   "outputs": [],
   "source": [
    "parsed_df = parsed_df.withColumnRenamed(\"\", \"indx\")\n",
    "parsed_df = parsed_df.withColumn(\"indx\",sha2(concat_ws(\"||\",col(\"indx\").cast(\"string\"),col(\"event_time\").cast(\"string\")),256))"
   ]
  },
  {
   "cell_type": "code",
   "execution_count": 9,
   "id": "e96c1f1a-c849-4550-aa4c-501b5445adfe",
   "metadata": {
    "execution": {
     "iopub.execute_input": "2025-07-31T15:51:37.555185Z",
     "iopub.status.busy": "2025-07-31T15:51:37.554340Z",
     "iopub.status.idle": "2025-07-31T15:51:37.985535Z",
     "shell.execute_reply": "2025-07-31T15:51:37.984397Z"
    },
    "papermill": {
     "duration": 0.44399,
     "end_time": "2025-07-31T15:51:37.988076",
     "exception": false,
     "start_time": "2025-07-31T15:51:37.544086",
     "status": "completed"
    },
    "tags": []
   },
   "outputs": [],
   "source": [
    "parsed_df = parsed_df.withColumn(\"is_fraud\",col(\"is_fraud\").cast(\"int\")) \\\n",
    "                        .withColumn(\"merch_long\",col(\"merch_long\").cast(\"double\")) \\\n",
    "                        .withColumn(\"merch_lat\",col(\"merch_lat\").cast(\"double\")) \\\n",
    "                        .withColumn(\"unix_time\",col(\"unix_time\").cast(\"long\")) \\\n",
    "                        .withColumn(\"merch_long\",col(\"merch_long\").cast(\"double\")) \\\n",
    "                        .withColumn(\"city_pop\",col(\"city_pop\").cast(\"int\")) \\\n",
    "                        .withColumn(\"long\",col(\"long\").cast(\"double\")) \\\n",
    "                        .withColumn(\"lat\",col(\"lat\").cast(\"double\")) \\\n",
    "                        .withColumn(\"amt\",col(\"amt\").cast(\"double\")) \\\n",
    "                        .withColumn(\"zip\",col(\"zip\").cast(\"int\")) \\\n",
    "                        .withColumn(\"dob\", to_date(\"dob\", \"yyyy-MM-dd\")) \\\n",
    "                        .withColumn(\"trans_date_trans_time\", to_timestamp(\"trans_date_trans_time\", \"yyyy-MM-dd HH:mm:ss\")) \\\n",
    "                        .withColumn(\"event_time\", to_timestamp(\"event_time\", \"yyyy-MM-dd HH:mm:ss\"))"
   ]
  },
  {
   "cell_type": "code",
   "execution_count": 10,
   "id": "90b755f1-0cfb-4511-b14b-caa00fdceb4e",
   "metadata": {
    "execution": {
     "iopub.execute_input": "2025-07-31T15:51:38.010097Z",
     "iopub.status.busy": "2025-07-31T15:51:38.009565Z",
     "iopub.status.idle": "2025-07-31T15:51:38.147545Z",
     "shell.execute_reply": "2025-07-31T15:51:38.146545Z"
    },
    "papermill": {
     "duration": 0.151902,
     "end_time": "2025-07-31T15:51:38.150053",
     "exception": false,
     "start_time": "2025-07-31T15:51:37.998151",
     "status": "completed"
    },
    "tags": []
   },
   "outputs": [],
   "source": [
    "parsed_df = parsed_df.withColumn(\"age\", (datediff(current_date(), col(\"dob\")) / 365).cast(\"int\")) \\\n",
    "                     .fillna({\"age\": 0}) \\\n",
    "                     .withColumn(\"age\", abs(col(\"age\")))\n",
    "                    "
   ]
  },
  {
   "cell_type": "code",
   "execution_count": 11,
   "id": "01f4a399-55ef-4b0c-a326-52d6541430bd",
   "metadata": {
    "execution": {
     "iopub.execute_input": "2025-07-31T15:51:38.178472Z",
     "iopub.status.busy": "2025-07-31T15:51:38.177381Z",
     "iopub.status.idle": "2025-07-31T15:51:38.270367Z",
     "shell.execute_reply": "2025-07-31T15:51:38.268736Z"
    },
    "papermill": {
     "duration": 0.111719,
     "end_time": "2025-07-31T15:51:38.273335",
     "exception": false,
     "start_time": "2025-07-31T15:51:38.161616",
     "status": "completed"
    },
    "tags": []
   },
   "outputs": [],
   "source": [
    "parsed_df = parsed_df.fillna({\"amt\": 0}) \\\n",
    "                     .withColumn(\"amt\", abs(col(\"amt\")))\n"
   ]
  },
  {
   "cell_type": "code",
   "execution_count": 12,
   "id": "ddf48525-73f4-40bc-afe1-98293d2fc2d7",
   "metadata": {
    "execution": {
     "iopub.execute_input": "2025-07-31T15:51:38.300884Z",
     "iopub.status.busy": "2025-07-31T15:51:38.299962Z",
     "iopub.status.idle": "2025-07-31T15:51:38.341680Z",
     "shell.execute_reply": "2025-07-31T15:51:38.340666Z"
    },
    "papermill": {
     "duration": 0.056003,
     "end_time": "2025-07-31T15:51:38.344945",
     "exception": false,
     "start_time": "2025-07-31T15:51:38.288942",
     "status": "completed"
    },
    "tags": []
   },
   "outputs": [],
   "source": [
    "parsed_df = parsed_df.withColumn(\"merchant\", regexp_replace(\"merchant\", \"^fraud_\", \"\"))"
   ]
  },
  {
   "cell_type": "code",
   "execution_count": 13,
   "id": "46910964-cdf9-43e9-95fd-a66f3b7c17cb",
   "metadata": {
    "execution": {
     "iopub.execute_input": "2025-07-31T15:51:38.371948Z",
     "iopub.status.busy": "2025-07-31T15:51:38.370811Z",
     "iopub.status.idle": "2025-07-31T15:51:38.427775Z",
     "shell.execute_reply": "2025-07-31T15:51:38.426729Z"
    },
    "papermill": {
     "duration": 0.075423,
     "end_time": "2025-07-31T15:51:38.430356",
     "exception": false,
     "start_time": "2025-07-31T15:51:38.354933",
     "status": "completed"
    },
    "tags": []
   },
   "outputs": [],
   "source": [
    "parsed_df = parsed_df.withColumn(\"gender\", when(col(\"gender\") == \"M\", \"Male\").when(col(\"gender\") == \"F\", \"Female\"))"
   ]
  },
  {
   "cell_type": "code",
   "execution_count": 14,
   "id": "e26bd7d0-3884-4ec4-9212-685d85dd3c11",
   "metadata": {
    "execution": {
     "iopub.execute_input": "2025-07-31T15:51:38.457298Z",
     "iopub.status.busy": "2025-07-31T15:51:38.456203Z",
     "iopub.status.idle": "2025-07-31T15:51:38.719360Z",
     "shell.execute_reply": "2025-07-31T15:51:38.717991Z"
    },
    "papermill": {
     "duration": 0.279995,
     "end_time": "2025-07-31T15:51:38.722042",
     "exception": false,
     "start_time": "2025-07-31T15:51:38.442047",
     "status": "completed"
    },
    "tags": []
   },
   "outputs": [],
   "source": [
    "cols_to_trim = [\"first\", \"last\", \"job\", \"merchant\", \"category\", \"street\", \"city\", \"state\"]\n",
    "\n",
    "for c in cols_to_trim:\n",
    "    parsed_df = parsed_df.withColumn(c, trim(col(c)))"
   ]
  },
  {
   "cell_type": "code",
   "execution_count": 15,
   "id": "e851282d-14b2-4ff9-9d29-a8050ac7efb0",
   "metadata": {
    "execution": {
     "iopub.execute_input": "2025-07-31T15:51:38.745404Z",
     "iopub.status.busy": "2025-07-31T15:51:38.744964Z",
     "iopub.status.idle": "2025-07-31T15:51:38.753026Z",
     "shell.execute_reply": "2025-07-31T15:51:38.751615Z"
    },
    "papermill": {
     "duration": 0.02288,
     "end_time": "2025-07-31T15:51:38.756337",
     "exception": false,
     "start_time": "2025-07-31T15:51:38.733457",
     "status": "completed"
    },
    "tags": []
   },
   "outputs": [],
   "source": [
    "def haversine(lat, long, merch_lat, merch_long):\n",
    "    R = 6371.0  # Earth radius in kilometers\n",
    "\n",
    "    # Convert degrees to radians\n",
    "    lat1_rad = math.radians(lat)\n",
    "    lon1_rad = math.radians(long)\n",
    "    lat2_rad = math.radians(merch_lat)\n",
    "    lon2_rad = math.radians(merch_long)\n",
    "\n",
    "    dlat = lat2_rad - lat1_rad\n",
    "    dlon = lon2_rad - lon1_rad\n",
    "\n",
    "    a = math.sin(dlat / 2) ** 2 + \\\n",
    "        math.cos(lat1_rad) * math.cos(lat2_rad) * \\\n",
    "        math.sin(dlon / 2) ** 2\n",
    "    c = 2 * math.atan2(math.sqrt(a), math.sqrt(1 - a))\n",
    "\n",
    "    distance = R * c\n",
    "    return distance\n"
   ]
  },
  {
   "cell_type": "code",
   "execution_count": 16,
   "id": "fb51fb1b-c9cb-468f-9b3d-188a83e51b2a",
   "metadata": {
    "execution": {
     "iopub.execute_input": "2025-07-31T15:51:38.783087Z",
     "iopub.status.busy": "2025-07-31T15:51:38.782591Z",
     "iopub.status.idle": "2025-07-31T15:51:38.877138Z",
     "shell.execute_reply": "2025-07-31T15:51:38.875822Z"
    },
    "papermill": {
     "duration": 0.112029,
     "end_time": "2025-07-31T15:51:38.879656",
     "exception": false,
     "start_time": "2025-07-31T15:51:38.767627",
     "status": "completed"
    },
    "tags": []
   },
   "outputs": [],
   "source": [
    "haversine_udf = udf(haversine, DoubleType())\n",
    "parsed_df = parsed_df.withColumn(\"distance_km\",haversine_udf(\"lat\",\"long\",\"merch_lat\",\"merch_long\"))"
   ]
  },
  {
   "cell_type": "code",
   "execution_count": 17,
   "id": "e999fb9e-3a8b-4e20-b7c4-085afcec205d",
   "metadata": {
    "execution": {
     "iopub.execute_input": "2025-07-31T15:51:38.905309Z",
     "iopub.status.busy": "2025-07-31T15:51:38.904604Z",
     "iopub.status.idle": "2025-07-31T15:51:39.005325Z",
     "shell.execute_reply": "2025-07-31T15:51:39.003595Z"
    },
    "papermill": {
     "duration": 0.116075,
     "end_time": "2025-07-31T15:51:39.008723",
     "exception": false,
     "start_time": "2025-07-31T15:51:38.892648",
     "status": "completed"
    },
    "tags": []
   },
   "outputs": [],
   "source": [
    "parsed_df = parsed_df \\\n",
    ".withColumn(\"merchant_id\", sha2(concat_ws(\"||\", col(\"merchant\"), col(\"merch_lat\").cast(\"string\"), col(\"merch_long\").cast(\"string\")), 256)) \\\n",
    ".withColumn(\"customer_id\", sha2(concat_ws(\"||\", col(\"first\"), col(\"last\"), col(\"dob\").cast(\"string\")), 256))\n",
    "                        "
   ]
  },
  {
   "cell_type": "code",
   "execution_count": 18,
   "id": "7f148d44-ee93-472d-a090-0906bc7fb137",
   "metadata": {
    "execution": {
     "iopub.execute_input": "2025-07-31T15:51:39.047359Z",
     "iopub.status.busy": "2025-07-31T15:51:39.046241Z",
     "iopub.status.idle": "2025-07-31T15:51:39.051955Z",
     "shell.execute_reply": "2025-07-31T15:51:39.050812Z"
    },
    "papermill": {
     "duration": 0.027259,
     "end_time": "2025-07-31T15:51:39.055335",
     "exception": false,
     "start_time": "2025-07-31T15:51:39.028076",
     "status": "completed"
    },
    "tags": []
   },
   "outputs": [],
   "source": [
    "cleand_transformed_df = parsed_df"
   ]
  },
  {
   "cell_type": "code",
   "execution_count": 19,
   "id": "59d267a0-3345-438f-805f-1af9d8af2d80",
   "metadata": {
    "execution": {
     "iopub.execute_input": "2025-07-31T15:51:39.082929Z",
     "iopub.status.busy": "2025-07-31T15:51:39.082207Z",
     "iopub.status.idle": "2025-07-31T15:51:39.091493Z",
     "shell.execute_reply": "2025-07-31T15:51:39.089939Z"
    },
    "papermill": {
     "duration": 0.028804,
     "end_time": "2025-07-31T15:51:39.094039",
     "exception": false,
     "start_time": "2025-07-31T15:51:39.065235",
     "status": "completed"
    },
    "tags": []
   },
   "outputs": [
    {
     "name": "stdout",
     "output_type": "stream",
     "text": [
      "root\n",
      " |-- indx: string (nullable = true)\n",
      " |-- trans_date_trans_time: timestamp (nullable = true)\n",
      " |-- cc_num: string (nullable = true)\n",
      " |-- merchant: string (nullable = true)\n",
      " |-- category: string (nullable = true)\n",
      " |-- amt: double (nullable = false)\n",
      " |-- first: string (nullable = true)\n",
      " |-- last: string (nullable = true)\n",
      " |-- gender: string (nullable = true)\n",
      " |-- street: string (nullable = true)\n",
      " |-- city: string (nullable = true)\n",
      " |-- state: string (nullable = true)\n",
      " |-- zip: integer (nullable = true)\n",
      " |-- lat: double (nullable = true)\n",
      " |-- long: double (nullable = true)\n",
      " |-- city_pop: integer (nullable = true)\n",
      " |-- job: string (nullable = true)\n",
      " |-- dob: date (nullable = true)\n",
      " |-- trans_num: string (nullable = true)\n",
      " |-- unix_time: long (nullable = true)\n",
      " |-- merch_lat: double (nullable = true)\n",
      " |-- merch_long: double (nullable = true)\n",
      " |-- is_fraud: integer (nullable = true)\n",
      " |-- event_time: timestamp (nullable = true)\n",
      " |-- age: integer (nullable = false)\n",
      " |-- distance_km: double (nullable = true)\n",
      " |-- merchant_id: string (nullable = true)\n",
      " |-- customer_id: string (nullable = true)\n",
      "\n"
     ]
    }
   ],
   "source": [
    "cleand_transformed_df.printSchema()"
   ]
  },
  {
   "cell_type": "code",
   "execution_count": 20,
   "id": "6e7cc501-08a0-49b2-9a89-40cdae88b2d3",
   "metadata": {
    "execution": {
     "iopub.execute_input": "2025-07-31T15:51:41.857713Z",
     "iopub.status.busy": "2025-07-31T15:51:41.856537Z",
     "iopub.status.idle": "2025-07-31T15:51:41.866346Z",
     "shell.execute_reply": "2025-07-31T15:51:41.864374Z"
    },
    "papermill": {
     "duration": 2.754152,
     "end_time": "2025-07-31T15:51:41.868583",
     "exception": false,
     "start_time": "2025-07-31T15:51:39.114431",
     "status": "completed"
    },
    "tags": []
   },
   "outputs": [],
   "source": [
    "def write_to_postgres(batch_df, batch_id):\n",
    "    batch_df.write \\\n",
    "        .format(\"jdbc\") \\\n",
    "        .option(\"url\", \"jdbc:postgresql://postgres_v2:5432/sparkdb\") \\\n",
    "        .option(\"dbtable\", \"transactions\") \\\n",
    "        .option(\"user\", \"spark\") \\\n",
    "        .option(\"password\", \"spark\") \\\n",
    "        .option(\"driver\", \"org.postgresql.Driver\") \\\n",
    "        .mode(\"append\") \\\n",
    "        .save()"
   ]
  },
  {
   "cell_type": "code",
   "execution_count": null,
   "id": "266b02a5-10fe-4134-ba33-d8a5997517b4",
   "metadata": {
    "execution": {
     "iopub.execute_input": "2025-07-30T18:00:46.205844Z",
     "iopub.status.busy": "2025-07-30T18:00:46.205500Z",
     "iopub.status.idle": "2025-07-30T18:00:46.225083Z",
     "shell.execute_reply": "2025-07-30T18:00:46.224330Z"
    },
    "papermill": {
     "duration": null,
     "end_time": null,
     "exception": false,
     "start_time": "2025-07-31T15:51:41.881174",
     "status": "running"
    },
    "tags": []
   },
   "outputs": [],
   "source": [
    "stream = cleand_transformed_df.writeStream \\\n",
    "    .foreachBatch(write_to_postgres) \\\n",
    "    .outputMode(\"append\") \\\n",
    "    .start()\n",
    "\n",
    "stream.awaitTermination()"
   ]
  },
  {
   "cell_type": "code",
   "execution_count": null,
   "id": "a1462cf4-729a-4913-9c07-4514b5971558",
   "metadata": {
    "execution": {
     "iopub.execute_input": "2025-07-30T18:00:46.240551Z",
     "iopub.status.busy": "2025-07-30T18:00:46.240136Z",
     "iopub.status.idle": "2025-07-30T18:00:46.453420Z",
     "shell.execute_reply": "2025-07-30T18:00:46.452441Z"
    },
    "papermill": {
     "duration": null,
     "end_time": null,
     "exception": null,
     "start_time": null,
     "status": "pending"
    },
    "tags": []
   },
   "outputs": [],
   "source": [
    "# q = stream.start()"
   ]
  },
  {
   "cell_type": "code",
   "execution_count": null,
   "id": "5150f7c5-dddf-4a2e-9d5d-9fe48c33f7b6",
   "metadata": {
    "execution": {
     "iopub.execute_input": "2025-07-30T18:00:46.471370Z",
     "iopub.status.busy": "2025-07-30T18:00:46.470720Z",
     "iopub.status.idle": "2025-07-30T18:00:46.475460Z",
     "shell.execute_reply": "2025-07-30T18:00:46.474599Z"
    },
    "papermill": {
     "duration": null,
     "end_time": null,
     "exception": null,
     "start_time": null,
     "status": "pending"
    },
    "tags": []
   },
   "outputs": [],
   "source": [
    "q.stop()"
   ]
  },
  {
   "cell_type": "code",
   "execution_count": null,
   "id": "5c7f4471-80f1-4c30-a246-047df01ad821",
   "metadata": {
    "papermill": {
     "duration": null,
     "end_time": null,
     "exception": null,
     "start_time": null,
     "status": "pending"
    },
    "tags": []
   },
   "outputs": [],
   "source": []
  },
  {
   "cell_type": "code",
   "execution_count": null,
   "id": "edf15053-46f7-4f0e-80bc-249af5a5d1bb",
   "metadata": {
    "papermill": {
     "duration": null,
     "end_time": null,
     "exception": null,
     "start_time": null,
     "status": "pending"
    },
    "tags": []
   },
   "outputs": [],
   "source": []
  },
  {
   "cell_type": "code",
   "execution_count": null,
   "id": "665c8712-2640-43f4-a531-eb470347776f",
   "metadata": {
    "papermill": {
     "duration": null,
     "end_time": null,
     "exception": null,
     "start_time": null,
     "status": "pending"
    },
    "tags": []
   },
   "outputs": [],
   "source": []
  },
  {
   "cell_type": "code",
   "execution_count": null,
   "id": "4e1fc7ad-a047-432a-9f48-270a4f77c3f5",
   "metadata": {
    "execution": {
     "iopub.execute_input": "2025-07-30T18:00:46.546854Z",
     "iopub.status.busy": "2025-07-30T18:00:46.546200Z",
     "iopub.status.idle": "2025-07-30T18:00:46.551675Z",
     "shell.execute_reply": "2025-07-30T18:00:46.550576Z"
    },
    "papermill": {
     "duration": null,
     "end_time": null,
     "exception": null,
     "start_time": null,
     "status": "pending"
    },
    "tags": []
   },
   "outputs": [],
   "source": [
    "# stream = cleand_transformed_df.writeStream \\\n",
    "                # .format(\"console\") \\\n",
    "                # .outputMode(\"append\") \n",
    "                # .option(\"checkpointLocation\", \"checkpoint_dir_kafka\")\n",
    "                # .trigger(processingTime=\"20 seconds\")"
   ]
  },
  {
   "cell_type": "code",
   "execution_count": null,
   "id": "7bfb45c6-6598-4d23-af10-c86826008cde",
   "metadata": {
    "execution": {
     "iopub.execute_input": "2025-07-30T18:00:46.571948Z",
     "iopub.status.busy": "2025-07-30T18:00:46.571441Z",
     "iopub.status.idle": "2025-07-30T18:00:46.576132Z",
     "shell.execute_reply": "2025-07-30T18:00:46.574891Z"
    },
    "papermill": {
     "duration": null,
     "end_time": null,
     "exception": null,
     "start_time": null,
     "status": "pending"
    },
    "tags": []
   },
   "outputs": [],
   "source": [
    "# qu = stream.start()"
   ]
  },
  {
   "cell_type": "code",
   "execution_count": null,
   "id": "3b96fb0f-dad4-4282-8451-c381c287134a",
   "metadata": {
    "execution": {
     "iopub.execute_input": "2025-07-30T18:00:46.595658Z",
     "iopub.status.busy": "2025-07-30T18:00:46.595051Z",
     "iopub.status.idle": "2025-07-30T18:00:46.598547Z",
     "shell.execute_reply": "2025-07-30T18:00:46.597765Z"
    },
    "papermill": {
     "duration": null,
     "end_time": null,
     "exception": null,
     "start_time": null,
     "status": "pending"
    },
    "tags": []
   },
   "outputs": [],
   "source": [
    "# qu.stop()"
   ]
  },
  {
   "cell_type": "raw",
   "id": "7c37de07-80ae-49e4-b7e1-7861722a27bf",
   "metadata": {
    "papermill": {
     "duration": null,
     "end_time": null,
     "exception": null,
     "start_time": null,
     "status": "pending"
    },
    "tags": []
   },
   "source": [
    "city state of mershant using log and lat "
   ]
  }
 ],
 "metadata": {
  "kernelspec": {
   "display_name": "Python 3 (ipykernel)",
   "language": "python",
   "name": "python3"
  },
  "language_info": {
   "codemirror_mode": {
    "name": "ipython",
    "version": 3
   },
   "file_extension": ".py",
   "mimetype": "text/x-python",
   "name": "python",
   "nbconvert_exporter": "python",
   "pygments_lexer": "ipython3",
   "version": "3.11.6"
  },
  "papermill": {
   "default_parameters": {},
   "duration": null,
   "end_time": null,
   "environment_variables": {},
   "exception": null,
   "input_path": "/home/jovyan/work/Spark-Streaming/Cleaning_Treansformations.ipynb",
   "output_path": "/home/jovyan/work/Spark-Streaming/Cleaning_Treansformations-out.ipynb",
   "parameters": {},
   "start_time": "2025-07-31T15:51:27.086404",
   "version": "2.6.0"
  }
 },
 "nbformat": 4,
 "nbformat_minor": 5
}
