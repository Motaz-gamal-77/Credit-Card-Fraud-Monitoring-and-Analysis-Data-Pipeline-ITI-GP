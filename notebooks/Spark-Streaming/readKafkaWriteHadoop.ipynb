{
 "cells": [
  {
   "cell_type": "code",
   "execution_count": 1,
   "id": "768afd20-cce3-46e0-99d1-bfe84aec3c79",
   "metadata": {
    "execution": {
     "iopub.execute_input": "2025-08-13T13:52:21.388449Z",
     "iopub.status.busy": "2025-08-13T13:52:21.388155Z",
     "iopub.status.idle": "2025-08-13T13:52:22.071704Z",
     "shell.execute_reply": "2025-08-13T13:52:22.071202Z"
    },
    "papermill": {
     "duration": 0.6927,
     "end_time": "2025-08-13T13:52:22.073462",
     "exception": false,
     "start_time": "2025-08-13T13:52:21.380762",
     "status": "completed"
    },
    "tags": []
   },
   "outputs": [],
   "source": [
    "from pyspark.sql import SparkSession\n",
    "from pyspark.sql.functions import from_json, col\n",
    "from pyspark.sql.types import StructType, StringType, IntegerType, StructField"
   ]
  },
  {
   "cell_type": "code",
   "execution_count": 2,
   "id": "932a0ed7-09cd-4d68-877f-10137e59bc2e",
   "metadata": {
    "execution": {
     "iopub.execute_input": "2025-08-13T13:52:22.079539Z",
     "iopub.status.busy": "2025-08-13T13:52:22.079023Z",
     "iopub.status.idle": "2025-08-13T13:52:36.953544Z",
     "shell.execute_reply": "2025-08-13T13:52:36.952280Z"
    },
    "papermill": {
     "duration": 14.881977,
     "end_time": "2025-08-13T13:52:36.958164",
     "exception": false,
     "start_time": "2025-08-13T13:52:22.076187",
     "status": "completed"
    },
    "tags": []
   },
   "outputs": [],
   "source": [
    "spark = SparkSession.builder \\\n",
    "    .appName(\"KafkaToHDFS\") \\\n",
    "    .config(\"spark.streaming.stopGracefullyOnShutdown\", True) \\\n",
    "    .config(\"spark.jars.packages\", \"org.apache.spark:spark-sql-kafka-0-10_2.12:3.5.0\") \\\n",
    "    .config(\"spark.sql.shuffle.partitions\", 4) \\\n",
    "    .getOrCreate()\n",
    "spark.sparkContext.setLogLevel(\"WARN\")"
   ]
  },
  {
   "cell_type": "code",
   "execution_count": 3,
   "id": "dd75e475-68ad-4e62-aea1-7c2104a5ca61",
   "metadata": {
    "execution": {
     "iopub.execute_input": "2025-08-13T13:52:36.964686Z",
     "iopub.status.busy": "2025-08-13T13:52:36.964483Z",
     "iopub.status.idle": "2025-08-13T13:52:39.686907Z",
     "shell.execute_reply": "2025-08-13T13:52:39.685410Z"
    },
    "papermill": {
     "duration": 2.729511,
     "end_time": "2025-08-13T13:52:39.691206",
     "exception": false,
     "start_time": "2025-08-13T13:52:36.961695",
     "status": "completed"
    },
    "tags": []
   },
   "outputs": [],
   "source": [
    "kafka_df  = spark.readStream \\\n",
    "    .format(\"kafka\") \\\n",
    "    .option(\"kafka.bootstrap.servers\", \"kafka_v2:9092\") \\\n",
    "    .option(\"subscribe\", \"credit_card_trans\") \\\n",
    "    .option(\"startingOffsets\", \"latest\") \\\n",
    "    .option(\"failOnDataLoss\", \"false\") \\\n",
    "    .load()"
   ]
  },
  {
   "cell_type": "code",
   "execution_count": 4,
   "id": "595cdf9b-24a9-4edb-90be-5321e0ccdeff",
   "metadata": {
    "execution": {
     "iopub.execute_input": "2025-08-13T13:52:39.700403Z",
     "iopub.status.busy": "2025-08-13T13:52:39.699224Z",
     "iopub.status.idle": "2025-08-13T13:52:39.750313Z",
     "shell.execute_reply": "2025-08-13T13:52:39.749394Z"
    },
    "papermill": {
     "duration": 0.059805,
     "end_time": "2025-08-13T13:52:39.754125",
     "exception": false,
     "start_time": "2025-08-13T13:52:39.694320",
     "status": "completed"
    },
    "tags": []
   },
   "outputs": [
    {
     "name": "stdout",
     "output_type": "stream",
     "text": [
      "root\n",
      " |-- key: binary (nullable = true)\n",
      " |-- value: binary (nullable = true)\n",
      " |-- topic: string (nullable = true)\n",
      " |-- partition: integer (nullable = true)\n",
      " |-- offset: long (nullable = true)\n",
      " |-- timestamp: timestamp (nullable = true)\n",
      " |-- timestampType: integer (nullable = true)\n",
      "\n"
     ]
    }
   ],
   "source": [
    "kafka_df.printSchema()"
   ]
  },
  {
   "cell_type": "code",
   "execution_count": 5,
   "id": "f2a13ea2-d631-4ec1-9b81-6742d09e51dc",
   "metadata": {
    "execution": {
     "iopub.execute_input": "2025-08-13T13:52:39.765399Z",
     "iopub.status.busy": "2025-08-13T13:52:39.765073Z",
     "iopub.status.idle": "2025-08-13T13:52:40.067516Z",
     "shell.execute_reply": "2025-08-13T13:52:40.066157Z"
    },
    "papermill": {
     "duration": 0.310065,
     "end_time": "2025-08-13T13:52:40.070975",
     "exception": false,
     "start_time": "2025-08-13T13:52:39.760910",
     "status": "completed"
    },
    "tags": []
   },
   "outputs": [],
   "source": [
    "df = kafka_df.selectExpr(\"CAST(value AS STRING) as json_str\")"
   ]
  },
  {
   "cell_type": "code",
   "execution_count": 6,
   "id": "a5314fc7-b07a-481a-aedb-b1c7156be896",
   "metadata": {
    "execution": {
     "iopub.execute_input": "2025-08-13T13:52:40.097126Z",
     "iopub.status.busy": "2025-08-13T13:52:40.096859Z",
     "iopub.status.idle": "2025-08-13T13:52:40.120336Z",
     "shell.execute_reply": "2025-08-13T13:52:40.117407Z"
    },
    "papermill": {
     "duration": 0.042824,
     "end_time": "2025-08-13T13:52:40.123248",
     "exception": false,
     "start_time": "2025-08-13T13:52:40.080424",
     "status": "completed"
    },
    "tags": []
   },
   "outputs": [],
   "source": [
    "schema = StructType([\n",
    "    StructField(\"\", StringType(), True),\n",
    "    StructField(\"trans_date_trans_time\", StringType(), True),\n",
    "    StructField(\"cc_num\", StringType(), True),\n",
    "    StructField(\"merchant\", StringType(), True),\n",
    "    StructField(\"category\", StringType(), True),\n",
    "    StructField(\"amt\", StringType(), True),\n",
    "    StructField(\"first\", StringType(), True),\n",
    "    StructField(\"last\", StringType(), True),\n",
    "    StructField(\"gender\", StringType(), True),\n",
    "    StructField(\"street\", StringType(), True),\n",
    "    StructField(\"city\", StringType(), True),\n",
    "    StructField(\"state\", StringType(), True),\n",
    "    StructField(\"zip\", StringType(), True),\n",
    "    StructField(\"lat\", StringType(), True),\n",
    "    StructField(\"long\", StringType(), True),\n",
    "    StructField(\"city_pop\", StringType(), True),\n",
    "    StructField(\"job\", StringType(), True),\n",
    "    StructField(\"dob\", StringType(), True),\n",
    "    StructField(\"trans_num\", StringType(), True),\n",
    "    StructField(\"unix_time\", StringType(), True),\n",
    "    StructField(\"merch_lat\", StringType(), True),\n",
    "    StructField(\"merch_long\", StringType(), True),\n",
    "    StructField(\"is_fraud\", StringType(), True),\n",
    "    StructField(\"event_time\",StringType(),True)\n",
    "])"
   ]
  },
  {
   "cell_type": "code",
   "execution_count": null,
   "id": "ebf61a5e-3fe4-4eb6-967c-369a7757b975",
   "metadata": {
    "papermill": {
     "duration": null,
     "end_time": null,
     "exception": false,
     "start_time": "2025-08-13T13:52:40.134821",
     "status": "running"
    },
    "tags": []
   },
   "outputs": [],
   "source": [
    "query = df.writeStream \\\n",
    "    .format(\"parquet\") \\\n",
    "    .option(\"checkpointLocation\", \"hdfs://hadoop-namenode:9000/user/jovyan/checkpoints/kafka_hdfs_job\") \\\n",
    "    .option(\"path\", \"hdfs://hadoop-namenode:9000/user/jovyan/output/kafka_parquet\") \\\n",
    "    .outputMode(\"append\") \\\n",
    "    .trigger(processingTime=\"4 hour\") \\\n",
    "    .start()\n",
    "try:\n",
    "    query.awaitTermination()\n",
    "except KeyboardInterrupt:\n",
    "    print(\"Gracefully stopping the stream...\")\n",
    "    query.stop()"
   ]
  },
  {
   "cell_type": "code",
   "execution_count": null,
   "id": "cc8116fb-49f2-4121-981c-e951f39d9e10",
   "metadata": {
    "papermill": {
     "duration": null,
     "end_time": null,
     "exception": null,
     "start_time": null,
     "status": "pending"
    },
    "tags": []
   },
   "outputs": [],
   "source": [
    "# # to check that data lake works \n",
    "\n",
    "# from hdfs import InsecureClient\n",
    "\n",
    "# client = InsecureClient('http://hadoop-namenode:9870', user='jovyan')\n",
    "\n",
    "# try:\n",
    "#     files = client.list('/user/jovyan/output/kafka_parquet')\n",
    "#     print(\"Folder exists. Files:\")\n",
    "#     for f in files:\n",
    "#         print(\" -\", f)\n",
    "# except Exception as e:\n",
    "#     print(\"Folder not found yet or no files written.\")"
   ]
  },
  {
   "cell_type": "code",
   "execution_count": null,
   "id": "737aa5af-4e47-4bc3-98ee-13bde3b58814",
   "metadata": {
    "papermill": {
     "duration": null,
     "end_time": null,
     "exception": null,
     "start_time": null,
     "status": "pending"
    },
    "tags": []
   },
   "outputs": [],
   "source": [
    "# #to delete created folder in HDFS\n",
    "\n",
    "# from hdfs import InsecureClient\n",
    "\n",
    "# client = InsecureClient('http://hadoop-namenode:9870', user='jovyan')\n",
    "\n",
    "# target_path = '/user/jovyan/output/kafka_parquet'\n",
    "\n",
    "# try:\n",
    "#     if client.status(target_path, strict=False):\n",
    "#         client.delete(target_path, recursive=True)\n",
    "#         print(f\"Deleted HDFS folder: {target_path}\")\n",
    "#     else:\n",
    "#         print(f\" Folder does not exist: {target_path}\")\n",
    "# except Exception as e:\n",
    "#     print(f\" Error deleting folder: {e}\")\n"
   ]
  },
  {
   "cell_type": "code",
   "execution_count": null,
   "id": "00dfc8cd-1d32-4c42-8b59-98fc9adfd58b",
   "metadata": {
    "papermill": {
     "duration": null,
     "end_time": null,
     "exception": null,
     "start_time": null,
     "status": "pending"
    },
    "tags": []
   },
   "outputs": [],
   "source": []
  }
 ],
 "metadata": {
  "kernelspec": {
   "display_name": "Python 3 (ipykernel)",
   "language": "python",
   "name": "python3"
  },
  "language_info": {
   "codemirror_mode": {
    "name": "ipython",
    "version": 3
   },
   "file_extension": ".py",
   "mimetype": "text/x-python",
   "name": "python",
   "nbconvert_exporter": "python",
   "pygments_lexer": "ipython3",
   "version": "3.11.6"
  },
  "papermill": {
   "default_parameters": {},
   "duration": null,
   "end_time": null,
   "environment_variables": {},
   "exception": null,
   "input_path": "/home/jovyan/work/Spark-Streaming/readKafkaWriteHadoop.ipynb",
   "output_path": "/home/jovyan/work/Spark-Streaming/readKafkaWriteHadoop.ipynb",
   "parameters": {},
   "start_time": "2025-08-13T13:52:19.641005",
   "version": "2.6.0"
  }
 },
 "nbformat": 4,
 "nbformat_minor": 5
}