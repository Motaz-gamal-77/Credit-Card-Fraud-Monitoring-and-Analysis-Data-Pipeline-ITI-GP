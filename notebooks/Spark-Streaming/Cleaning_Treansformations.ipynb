{
 "cells": [
  {
   "cell_type": "code",
   "execution_count": 1,
   "id": "cc05834d-480c-4e11-b8ee-4f9127966d8a",
   "metadata": {
    "execution": {
     "iopub.execute_input": "2025-08-08T13:55:49.749839Z",
     "iopub.status.busy": "2025-08-08T13:55:49.749613Z",
     "iopub.status.idle": "2025-08-08T13:55:50.249783Z",
     "shell.execute_reply": "2025-08-08T13:55:50.249372Z"
    },
    "papermill": {
     "duration": 0.506445,
     "end_time": "2025-08-08T13:55:50.251287",
     "exception": false,
     "start_time": "2025-08-08T13:55:49.744842",
     "status": "completed"
    },
    "tags": []
   },
   "outputs": [],
   "source": [
    "from pyspark.sql import SparkSession\n",
    "from pyspark.sql.functions import *\n",
    "from pyspark.sql.types import *\n",
    "import math"
   ]
  },
  {
   "cell_type": "code",
   "execution_count": 2,
   "id": "cb10dc90-8383-4681-808d-9f06c53d0819",
   "metadata": {
    "execution": {
     "iopub.execute_input": "2025-08-08T13:55:50.260063Z",
     "iopub.status.busy": "2025-08-08T13:55:50.259809Z",
     "iopub.status.idle": "2025-08-08T13:56:04.654123Z",
     "shell.execute_reply": "2025-08-08T13:56:04.653684Z"
    },
    "papermill": {
     "duration": 14.400654,
     "end_time": "2025-08-08T13:56:04.655695",
     "exception": false,
     "start_time": "2025-08-08T13:55:50.255041",
     "status": "completed"
    },
    "tags": []
   },
   "outputs": [],
   "source": [
    "spark = SparkSession.builder \\\n",
    "    .appName(\"KafkaStreamReader\") \\\n",
    "    .config(\"spark.streaming.stopGracefullyOnShutdown\", True) \\\n",
    "    .config('spark.jars.packages', 'org.apache.spark:spark-sql-kafka-0-10_2.12:3.5.0') \\\n",
    "    .config(\"spark.sql.shuffle.partitions\", 4) \\\n",
    "    .getOrCreate()"
   ]
  },
  {
   "cell_type": "code",
   "execution_count": 3,
   "id": "b490b0c8-624c-4a3c-a242-061f56c4afd8",
   "metadata": {
    "execution": {
     "iopub.execute_input": "2025-08-08T13:56:04.663431Z",
     "iopub.status.busy": "2025-08-08T13:56:04.663004Z",
     "iopub.status.idle": "2025-08-08T13:56:06.387815Z",
     "shell.execute_reply": "2025-08-08T13:56:06.387147Z"
    },
    "papermill": {
     "duration": 1.730703,
     "end_time": "2025-08-08T13:56:06.389879",
     "exception": false,
     "start_time": "2025-08-08T13:56:04.659176",
     "status": "completed"
    },
    "tags": []
   },
   "outputs": [],
   "source": [
    "kafka_df  = spark.readStream \\\n",
    "    .format(\"kafka\") \\\n",
    "    .option(\"kafka.bootstrap.servers\", \"kafka_v2:9092\") \\\n",
    "    .option(\"subscribe\", \"credit_card_trans\") \\\n",
    "    .option(\"startingOffsets\", \"earliest\") \\\n",
    "    .option(\"failOnDataLoss\", \"false\") \\\n",
    "    .load()"
   ]
  },
  {
   "cell_type": "code",
   "execution_count": 4,
   "id": "9aad5e42-b6ec-4bdf-b2e7-2b19e5328050",
   "metadata": {
    "execution": {
     "iopub.execute_input": "2025-08-08T13:56:06.401001Z",
     "iopub.status.busy": "2025-08-08T13:56:06.400738Z",
     "iopub.status.idle": "2025-08-08T13:56:06.430669Z",
     "shell.execute_reply": "2025-08-08T13:56:06.429923Z"
    },
    "papermill": {
     "duration": 0.037634,
     "end_time": "2025-08-08T13:56:06.432515",
     "exception": false,
     "start_time": "2025-08-08T13:56:06.394881",
     "status": "completed"
    },
    "tags": []
   },
   "outputs": [
    {
     "name": "stdout",
     "output_type": "stream",
     "text": [
      "root\n",
      " |-- key: binary (nullable = true)\n",
      " |-- value: binary (nullable = true)\n",
      " |-- topic: string (nullable = true)\n",
      " |-- partition: integer (nullable = true)\n",
      " |-- offset: long (nullable = true)\n",
      " |-- timestamp: timestamp (nullable = true)\n",
      " |-- timestampType: integer (nullable = true)\n",
      "\n"
     ]
    }
   ],
   "source": [
    "kafka_df.printSchema()"
   ]
  },
  {
   "cell_type": "code",
   "execution_count": 5,
   "id": "eb251f21-01e1-4676-aa95-ce825f696990",
   "metadata": {
    "execution": {
     "iopub.execute_input": "2025-08-08T13:56:06.442750Z",
     "iopub.status.busy": "2025-08-08T13:56:06.442491Z",
     "iopub.status.idle": "2025-08-08T13:56:06.583456Z",
     "shell.execute_reply": "2025-08-08T13:56:06.582565Z"
    },
    "papermill": {
     "duration": 0.147519,
     "end_time": "2025-08-08T13:56:06.584722",
     "exception": false,
     "start_time": "2025-08-08T13:56:06.437203",
     "status": "completed"
    },
    "tags": []
   },
   "outputs": [],
   "source": [
    "# Kafka message is in binary, so cast it to string\n",
    "value_df = kafka_df.selectExpr(\"CAST(value AS STRING) as json_str\")"
   ]
  },
  {
   "cell_type": "code",
   "execution_count": 6,
   "id": "e64b5d20-a5ff-4db1-aac7-3505021e92e1",
   "metadata": {
    "execution": {
     "iopub.execute_input": "2025-08-08T13:56:06.596167Z",
     "iopub.status.busy": "2025-08-08T13:56:06.595902Z",
     "iopub.status.idle": "2025-08-08T13:56:06.605369Z",
     "shell.execute_reply": "2025-08-08T13:56:06.604798Z"
    },
    "papermill": {
     "duration": 0.017082,
     "end_time": "2025-08-08T13:56:06.607192",
     "exception": false,
     "start_time": "2025-08-08T13:56:06.590110",
     "status": "completed"
    },
    "tags": []
   },
   "outputs": [],
   "source": [
    "schema = StructType([\n",
    "    StructField(\"\", StringType(), True),\n",
    "    StructField(\"trans_date_trans_time\", StringType(), True),\n",
    "    StructField(\"cc_num\", StringType(), True),\n",
    "    StructField(\"merchant\", StringType(), True),\n",
    "    StructField(\"category\", StringType(), True),\n",
    "    StructField(\"amt\", StringType(), True),\n",
    "    StructField(\"first\", StringType(), True),\n",
    "    StructField(\"last\", StringType(), True),\n",
    "    StructField(\"gender\", StringType(), True),\n",
    "    StructField(\"street\", StringType(), True),\n",
    "    StructField(\"city\", StringType(), True),\n",
    "    StructField(\"state\", StringType(), True),\n",
    "    StructField(\"zip\", StringType(), True),\n",
    "    StructField(\"lat\", StringType(), True),\n",
    "    StructField(\"long\", StringType(), True),\n",
    "    StructField(\"city_pop\", StringType(), True),\n",
    "    StructField(\"job\", StringType(), True),\n",
    "    StructField(\"dob\", StringType(), True),\n",
    "    StructField(\"trans_num\", StringType(), True),\n",
    "    StructField(\"unix_time\", StringType(), True),\n",
    "    StructField(\"merch_lat\", StringType(), True),\n",
    "    StructField(\"merch_long\", StringType(), True),\n",
    "    StructField(\"is_fraud\", StringType(), True),\n",
    "    StructField(\"event_time\",StringType(),True)\n",
    "])"
   ]
  },
  {
   "cell_type": "code",
   "execution_count": 7,
   "id": "7566e4e5-5260-4867-a13c-c72bb13586f4",
   "metadata": {
    "execution": {
     "iopub.execute_input": "2025-08-08T13:56:06.618043Z",
     "iopub.status.busy": "2025-08-08T13:56:06.617819Z",
     "iopub.status.idle": "2025-08-08T13:56:06.869392Z",
     "shell.execute_reply": "2025-08-08T13:56:06.868663Z"
    },
    "papermill": {
     "duration": 0.258397,
     "end_time": "2025-08-08T13:56:06.870754",
     "exception": false,
     "start_time": "2025-08-08T13:56:06.612357",
     "status": "completed"
    },
    "tags": []
   },
   "outputs": [],
   "source": [
    "parsed_df = value_df.select(from_json(col(\"json_str\"), schema).alias(\"data\")).select(\"data.*\")"
   ]
  },
  {
   "cell_type": "code",
   "execution_count": 8,
   "id": "b19eaada-176a-43e8-8e0e-8bb1ad716b03",
   "metadata": {
    "execution": {
     "iopub.execute_input": "2025-08-08T13:56:06.881746Z",
     "iopub.status.busy": "2025-08-08T13:56:06.881348Z",
     "iopub.status.idle": "2025-08-08T13:56:06.998996Z",
     "shell.execute_reply": "2025-08-08T13:56:06.998279Z"
    },
    "papermill": {
     "duration": 0.12431,
     "end_time": "2025-08-08T13:56:07.000279",
     "exception": false,
     "start_time": "2025-08-08T13:56:06.875969",
     "status": "completed"
    },
    "tags": []
   },
   "outputs": [],
   "source": [
    "parsed_df = parsed_df.withColumnRenamed(\"\", \"indx\")\n",
    "parsed_df = parsed_df.withColumn(\"indx\",sha2(concat_ws(\"||\",col(\"indx\").cast(\"string\"),col(\"event_time\").cast(\"string\")),256))"
   ]
  },
  {
   "cell_type": "code",
   "execution_count": 9,
   "id": "e96c1f1a-c849-4550-aa4c-501b5445adfe",
   "metadata": {
    "execution": {
     "iopub.execute_input": "2025-08-08T13:56:07.009898Z",
     "iopub.status.busy": "2025-08-08T13:56:07.009399Z",
     "iopub.status.idle": "2025-08-08T13:56:07.490357Z",
     "shell.execute_reply": "2025-08-08T13:56:07.489662Z"
    },
    "papermill": {
     "duration": 0.487793,
     "end_time": "2025-08-08T13:56:07.491730",
     "exception": false,
     "start_time": "2025-08-08T13:56:07.003937",
     "status": "completed"
    },
    "tags": []
   },
   "outputs": [],
   "source": [
    "parsed_df = parsed_df.withColumn(\"is_fraud\",col(\"is_fraud\").cast(\"int\")) \\\n",
    "                        .withColumn(\"merch_long\",col(\"merch_long\").cast(\"double\")) \\\n",
    "                        .withColumn(\"merch_lat\",col(\"merch_lat\").cast(\"double\")) \\\n",
    "                        .withColumn(\"unix_time\",col(\"unix_time\").cast(\"long\")) \\\n",
    "                        .withColumn(\"merch_long\",col(\"merch_long\").cast(\"double\")) \\\n",
    "                        .withColumn(\"city_pop\",col(\"city_pop\").cast(\"int\")) \\\n",
    "                        .withColumn(\"long\",col(\"long\").cast(\"double\")) \\\n",
    "                        .withColumn(\"lat\",col(\"lat\").cast(\"double\")) \\\n",
    "                        .withColumn(\"amt\",col(\"amt\").cast(\"double\")) \\\n",
    "                        .withColumn(\"zip\",col(\"zip\").cast(\"int\")) \\\n",
    "                        .withColumn(\"dob\", to_date(\"dob\", \"yyyy-MM-dd\")) \\\n",
    "                        .withColumn(\"trans_date_trans_time\", to_timestamp(\"trans_date_trans_time\", \"yyyy-MM-dd HH:mm:ss\")) \\\n",
    "                        .withColumn(\"event_time\", to_timestamp(\"event_time\", \"yyyy-MM-dd HH:mm:ss\"))"
   ]
  },
  {
   "cell_type": "code",
   "execution_count": 10,
   "id": "90b755f1-0cfb-4511-b14b-caa00fdceb4e",
   "metadata": {
    "execution": {
     "iopub.execute_input": "2025-08-08T13:56:07.498545Z",
     "iopub.status.busy": "2025-08-08T13:56:07.498187Z",
     "iopub.status.idle": "2025-08-08T13:56:07.629454Z",
     "shell.execute_reply": "2025-08-08T13:56:07.628844Z"
    },
    "papermill": {
     "duration": 0.136956,
     "end_time": "2025-08-08T13:56:07.631693",
     "exception": false,
     "start_time": "2025-08-08T13:56:07.494737",
     "status": "completed"
    },
    "tags": []
   },
   "outputs": [],
   "source": [
    "parsed_df = parsed_df.withColumn(\"age\", (datediff(current_date(), col(\"dob\")) / 365).cast(\"int\")) \\\n",
    "                     .fillna({\"age\": 0}) \\\n",
    "                     .withColumn(\"age\", abs(col(\"age\")))\n",
    "                    "
   ]
  },
  {
   "cell_type": "code",
   "execution_count": 11,
   "id": "01f4a399-55ef-4b0c-a326-52d6541430bd",
   "metadata": {
    "execution": {
     "iopub.execute_input": "2025-08-08T13:56:07.641619Z",
     "iopub.status.busy": "2025-08-08T13:56:07.641378Z",
     "iopub.status.idle": "2025-08-08T13:56:07.714219Z",
     "shell.execute_reply": "2025-08-08T13:56:07.713602Z"
    },
    "papermill": {
     "duration": 0.080115,
     "end_time": "2025-08-08T13:56:07.716138",
     "exception": false,
     "start_time": "2025-08-08T13:56:07.636023",
     "status": "completed"
    },
    "tags": []
   },
   "outputs": [],
   "source": [
    "parsed_df = parsed_df.fillna({\"amt\": 0}) \\\n",
    "                     .withColumn(\"amt\", abs(col(\"amt\")))\n"
   ]
  },
  {
   "cell_type": "code",
   "execution_count": 12,
   "id": "ddf48525-73f4-40bc-afe1-98293d2fc2d7",
   "metadata": {
    "execution": {
     "iopub.execute_input": "2025-08-08T13:56:07.726821Z",
     "iopub.status.busy": "2025-08-08T13:56:07.725937Z",
     "iopub.status.idle": "2025-08-08T13:56:07.770711Z",
     "shell.execute_reply": "2025-08-08T13:56:07.770037Z"
    },
    "papermill": {
     "duration": 0.051702,
     "end_time": "2025-08-08T13:56:07.772615",
     "exception": false,
     "start_time": "2025-08-08T13:56:07.720913",
     "status": "completed"
    },
    "tags": []
   },
   "outputs": [],
   "source": [
    "parsed_df = parsed_df.withColumn(\"merchant\", regexp_replace(\"merchant\", \"^fraud_\", \"\"))"
   ]
  },
  {
   "cell_type": "code",
   "execution_count": 13,
   "id": "46910964-cdf9-43e9-95fd-a66f3b7c17cb",
   "metadata": {
    "execution": {
     "iopub.execute_input": "2025-08-08T13:56:07.786274Z",
     "iopub.status.busy": "2025-08-08T13:56:07.785288Z",
     "iopub.status.idle": "2025-08-08T13:56:07.841032Z",
     "shell.execute_reply": "2025-08-08T13:56:07.840355Z"
    },
    "papermill": {
     "duration": 0.064401,
     "end_time": "2025-08-08T13:56:07.844351",
     "exception": false,
     "start_time": "2025-08-08T13:56:07.779950",
     "status": "completed"
    },
    "tags": []
   },
   "outputs": [],
   "source": [
    "parsed_df = parsed_df.withColumn(\"gender\", when(col(\"gender\") == \"M\", \"Male\").when(col(\"gender\") == \"F\", \"Female\"))"
   ]
  },
  {
   "cell_type": "code",
   "execution_count": 14,
   "id": "e26bd7d0-3884-4ec4-9212-685d85dd3c11",
   "metadata": {
    "execution": {
     "iopub.execute_input": "2025-08-08T13:56:07.855875Z",
     "iopub.status.busy": "2025-08-08T13:56:07.855582Z",
     "iopub.status.idle": "2025-08-08T13:56:08.096003Z",
     "shell.execute_reply": "2025-08-08T13:56:08.093943Z"
    },
    "papermill": {
     "duration": 0.248247,
     "end_time": "2025-08-08T13:56:08.098761",
     "exception": false,
     "start_time": "2025-08-08T13:56:07.850514",
     "status": "completed"
    },
    "tags": []
   },
   "outputs": [],
   "source": [
    "cols_to_trim = [\"first\", \"last\", \"job\", \"merchant\", \"category\", \"street\", \"city\", \"state\"]\n",
    "\n",
    "for c in cols_to_trim:\n",
    "    parsed_df = parsed_df.withColumn(c, trim(col(c)))"
   ]
  },
  {
   "cell_type": "code",
   "execution_count": 15,
   "id": "e851282d-14b2-4ff9-9d29-a8050ac7efb0",
   "metadata": {
    "execution": {
     "iopub.execute_input": "2025-08-08T13:56:08.122292Z",
     "iopub.status.busy": "2025-08-08T13:56:08.122023Z",
     "iopub.status.idle": "2025-08-08T13:56:08.129300Z",
     "shell.execute_reply": "2025-08-08T13:56:08.128692Z"
    },
    "papermill": {
     "duration": 0.023979,
     "end_time": "2025-08-08T13:56:08.133347",
     "exception": false,
     "start_time": "2025-08-08T13:56:08.109368",
     "status": "completed"
    },
    "tags": []
   },
   "outputs": [],
   "source": [
    "def haversine(lat, long, merch_lat, merch_long):\n",
    "    R = 6371.0  # Earth radius in kilometers\n",
    "\n",
    "    # Convert degrees to radians\n",
    "    lat1_rad = math.radians(lat)\n",
    "    lon1_rad = math.radians(long)\n",
    "    lat2_rad = math.radians(merch_lat)\n",
    "    lon2_rad = math.radians(merch_long)\n",
    "\n",
    "    dlat = lat2_rad - lat1_rad\n",
    "    dlon = lon2_rad - lon1_rad\n",
    "\n",
    "    a = math.sin(dlat / 2) ** 2 + \\\n",
    "        math.cos(lat1_rad) * math.cos(lat2_rad) * \\\n",
    "        math.sin(dlon / 2) ** 2\n",
    "    c = 2 * math.atan2(math.sqrt(a), math.sqrt(1 - a))\n",
    "\n",
    "    distance = R * c\n",
    "    return distance\n"
   ]
  },
  {
   "cell_type": "code",
   "execution_count": 16,
   "id": "fb51fb1b-c9cb-468f-9b3d-188a83e51b2a",
   "metadata": {
    "execution": {
     "iopub.execute_input": "2025-08-08T13:56:08.146162Z",
     "iopub.status.busy": "2025-08-08T13:56:08.145615Z",
     "iopub.status.idle": "2025-08-08T13:56:08.203395Z",
     "shell.execute_reply": "2025-08-08T13:56:08.202731Z"
    },
    "papermill": {
     "duration": 0.064881,
     "end_time": "2025-08-08T13:56:08.205302",
     "exception": false,
     "start_time": "2025-08-08T13:56:08.140421",
     "status": "completed"
    },
    "tags": []
   },
   "outputs": [],
   "source": [
    "haversine_udf = udf(haversine, DoubleType())\n",
    "parsed_df = parsed_df.withColumn(\"distance_km\",haversine_udf(\"lat\",\"long\",\"merch_lat\",\"merch_long\"))"
   ]
  },
  {
   "cell_type": "code",
   "execution_count": 17,
   "id": "e999fb9e-3a8b-4e20-b7c4-085afcec205d",
   "metadata": {
    "execution": {
     "iopub.execute_input": "2025-08-08T13:56:08.216206Z",
     "iopub.status.busy": "2025-08-08T13:56:08.215600Z",
     "iopub.status.idle": "2025-08-08T13:56:08.265697Z",
     "shell.execute_reply": "2025-08-08T13:56:08.265106Z"
    },
    "papermill": {
     "duration": 0.057282,
     "end_time": "2025-08-08T13:56:08.267613",
     "exception": false,
     "start_time": "2025-08-08T13:56:08.210331",
     "status": "completed"
    },
    "tags": []
   },
   "outputs": [],
   "source": [
    "parsed_df = parsed_df \\\n",
    ".withColumn(\"merchant_id\", sha2(concat_ws(\"||\", col(\"merchant\")), 256)) \\\n",
    ".withColumn(\"customer_id\", sha2(concat_ws(\"||\", col(\"first\"), col(\"last\"), col(\"dob\").cast(\"string\")), 256))\n",
    "                        "
   ]
  },
  {
   "cell_type": "code",
   "execution_count": 18,
   "id": "7f148d44-ee93-472d-a090-0906bc7fb137",
   "metadata": {
    "execution": {
     "iopub.execute_input": "2025-08-08T13:56:08.279175Z",
     "iopub.status.busy": "2025-08-08T13:56:08.278523Z",
     "iopub.status.idle": "2025-08-08T13:56:08.283143Z",
     "shell.execute_reply": "2025-08-08T13:56:08.281813Z"
    },
    "papermill": {
     "duration": 0.01123,
     "end_time": "2025-08-08T13:56:08.284215",
     "exception": false,
     "start_time": "2025-08-08T13:56:08.272985",
     "status": "completed"
    },
    "tags": []
   },
   "outputs": [],
   "source": [
    "cleand_transformed_df = parsed_df"
   ]
  },
  {
   "cell_type": "code",
   "execution_count": 19,
   "id": "59d267a0-3345-438f-805f-1af9d8af2d80",
   "metadata": {
    "execution": {
     "iopub.execute_input": "2025-08-08T13:56:08.295233Z",
     "iopub.status.busy": "2025-08-08T13:56:08.294999Z",
     "iopub.status.idle": "2025-08-08T13:56:08.302809Z",
     "shell.execute_reply": "2025-08-08T13:56:08.301867Z"
    },
    "papermill": {
     "duration": 0.015796,
     "end_time": "2025-08-08T13:56:08.304481",
     "exception": false,
     "start_time": "2025-08-08T13:56:08.288685",
     "status": "completed"
    },
    "tags": []
   },
   "outputs": [
    {
     "name": "stdout",
     "output_type": "stream",
     "text": [
      "root\n",
      " |-- indx: string (nullable = true)\n",
      " |-- trans_date_trans_time: timestamp (nullable = true)\n",
      " |-- cc_num: string (nullable = true)\n",
      " |-- merchant: string (nullable = true)\n",
      " |-- category: string (nullable = true)\n",
      " |-- amt: double (nullable = false)\n",
      " |-- first: string (nullable = true)\n",
      " |-- last: string (nullable = true)\n",
      " |-- gender: string (nullable = true)\n",
      " |-- street: string (nullable = true)\n",
      " |-- city: string (nullable = true)\n",
      " |-- state: string (nullable = true)\n",
      " |-- zip: integer (nullable = true)\n",
      " |-- lat: double (nullable = true)\n",
      " |-- long: double (nullable = true)\n",
      " |-- city_pop: integer (nullable = true)\n",
      " |-- job: string (nullable = true)\n",
      " |-- dob: date (nullable = true)\n",
      " |-- trans_num: string (nullable = true)\n",
      " |-- unix_time: long (nullable = true)\n",
      " |-- merch_lat: double (nullable = true)\n",
      " |-- merch_long: double (nullable = true)\n",
      " |-- is_fraud: integer (nullable = true)\n",
      " |-- event_time: timestamp (nullable = true)\n",
      " |-- age: integer (nullable = false)\n",
      " |-- distance_km: double (nullable = true)\n",
      " |-- merchant_id: string (nullable = true)\n",
      " |-- customer_id: string (nullable = true)\n",
      "\n"
     ]
    }
   ],
   "source": [
    "cleand_transformed_df.printSchema()"
   ]
  },
  {
   "cell_type": "code",
   "execution_count": 20,
   "id": "6e7cc501-08a0-49b2-9a89-40cdae88b2d3",
   "metadata": {
    "execution": {
     "iopub.execute_input": "2025-08-08T13:56:08.314370Z",
     "iopub.status.busy": "2025-08-08T13:56:08.313728Z",
     "iopub.status.idle": "2025-08-08T13:56:08.318831Z",
     "shell.execute_reply": "2025-08-08T13:56:08.318446Z"
    },
    "papermill": {
     "duration": 0.011425,
     "end_time": "2025-08-08T13:56:08.320394",
     "exception": false,
     "start_time": "2025-08-08T13:56:08.308969",
     "status": "completed"
    },
    "tags": []
   },
   "outputs": [],
   "source": [
    "def write_to_postgres(batch_df, batch_id):\n",
    "    batch_df.write \\\n",
    "        .format(\"jdbc\") \\\n",
    "        .option(\"url\", \"jdbc:postgresql://postgres_v2:5432/sparkdb\") \\\n",
    "        .option(\"dbtable\", \"transactions\") \\\n",
    "        .option(\"user\", \"spark\") \\\n",
    "        .option(\"password\", \"spark\") \\\n",
    "        .option(\"driver\", \"org.postgresql.Driver\") \\\n",
    "        .mode(\"append\") \\\n",
    "        .save()"
   ]
  },
  {
   "cell_type": "code",
   "execution_count": null,
   "id": "266b02a5-10fe-4134-ba33-d8a5997517b4",
   "metadata": {
    "papermill": {
     "duration": null,
     "end_time": null,
     "exception": false,
     "start_time": "2025-08-08T13:56:08.325322",
     "status": "running"
    },
    "tags": []
   },
   "outputs": [],
   "source": [
    "stream = cleand_transformed_df.writeStream \\\n",
    "    .foreachBatch(write_to_postgres) \\\n",
    "    .outputMode(\"append\") \\\n",
    "    .start()\n",
    "try:\n",
    "    stream.awaitTermination()\n",
    "except KeyboardInterrupt:\n",
    "    print(\"Gracefully stopping the stream...\")\n",
    "    stream.stop()"
   ]
  },
  {
   "cell_type": "code",
   "execution_count": null,
   "id": "4e1fc7ad-a047-432a-9f48-270a4f77c3f5",
   "metadata": {
    "papermill": {
     "duration": null,
     "end_time": null,
     "exception": null,
     "start_time": null,
     "status": "pending"
    },
    "tags": []
   },
   "outputs": [],
   "source": [
    "# stream = cleand_transformed_df.writeStream \\\n",
    "#                 .format(\"console\") \\\n",
    "#                 .outputMode(\"append\") \n",
    "#                 # .option(\"checkpointLocation\", \"checkpoint_dir_kafka\")\n",
    "#                 # .trigger(processingTime=\"20 seconds\")\n",
    "# qu = stream.start()\n",
    "# qu.stop()"
   ]
  }
 ],
 "metadata": {
  "kernelspec": {
   "display_name": "Python 3 (ipykernel)",
   "language": "python",
   "name": "python3"
  },
  "language_info": {
   "codemirror_mode": {
    "name": "ipython",
    "version": 3
   },
   "file_extension": ".py",
   "mimetype": "text/x-python",
   "name": "python",
   "nbconvert_exporter": "python",
   "pygments_lexer": "ipython3",
   "version": "3.11.6"
  },
  "papermill": {
   "default_parameters": {},
   "duration": null,
   "end_time": null,
   "environment_variables": {},
   "exception": null,
   "input_path": "/home/jovyan/work/Spark-Streaming/Cleaning_Treansformations.ipynb",
   "output_path": "/home/jovyan/work/Spark-Streaming/Cleaning_Treansformations.ipynb",
   "parameters": {},
   "start_time": "2025-08-08T13:55:48.067696",
   "version": "2.6.0"
  }
 },
 "nbformat": 4,
 "nbformat_minor": 5
}