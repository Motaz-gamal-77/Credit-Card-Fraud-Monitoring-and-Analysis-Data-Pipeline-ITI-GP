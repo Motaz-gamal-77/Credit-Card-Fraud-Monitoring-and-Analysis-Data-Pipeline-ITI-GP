{
 "cells": [
  {
   "cell_type": "code",
   "execution_count": 1,
   "id": "aa06eb59-bd7e-4995-85c8-3218a05a76ea",
   "metadata": {},
   "outputs": [],
   "source": [
    "from pyspark.sql import SparkSession\n",
    "from pyspark.sql.functions import *\n",
    "from pyspark.sql.types import *"
   ]
  },
  {
   "cell_type": "code",
   "execution_count": 2,
   "id": "a3b5ba87-d2dd-4ec4-9806-003aaaa51e53",
   "metadata": {},
   "outputs": [],
   "source": [
    "spark = SparkSession.builder \\\n",
    "    .appName(\"ReadFromHDFS\") \\\n",
    "    .getOrCreate()"
   ]
  },
  {
   "cell_type": "code",
   "execution_count": 3,
   "id": "d1eff78c-4dff-4f99-902c-d83fead0e07a",
   "metadata": {},
   "outputs": [],
   "source": [
    "df = spark.read \\\n",
    "    .format(\"parquet\") \\\n",
    "    .load(\"hdfs://hadoop-namenode:9000/user/jovyan/output/kafka_parquet\")"
   ]
  },
  {
   "cell_type": "code",
   "execution_count": 4,
   "id": "42a7bc3a-3cff-42f3-92b0-a61a16518dfb",
   "metadata": {},
   "outputs": [],
   "source": [
    "schema = StructType([\n",
    "    StructField(\"\", StringType(), True),\n",
    "    StructField(\"trans_date_trans_time\", StringType(), True),\n",
    "    StructField(\"cc_num\", StringType(), True),\n",
    "    StructField(\"merchant\", StringType(), True),\n",
    "    StructField(\"category\", StringType(), True),\n",
    "    StructField(\"amt\", StringType(), True),\n",
    "    StructField(\"first\", StringType(), True),\n",
    "    StructField(\"last\", StringType(), True),\n",
    "    StructField(\"gender\", StringType(), True),\n",
    "    StructField(\"street\", StringType(), True),\n",
    "    StructField(\"city\", StringType(), True),\n",
    "    StructField(\"state\", StringType(), True),\n",
    "    StructField(\"zip\", StringType(), True),\n",
    "    StructField(\"lat\", StringType(), True),\n",
    "    StructField(\"long\", StringType(), True),\n",
    "    StructField(\"city_pop\", StringType(), True),\n",
    "    StructField(\"job\", StringType(), True),\n",
    "    StructField(\"dob\", StringType(), True),\n",
    "    StructField(\"trans_num\", StringType(), True),\n",
    "    StructField(\"unix_time\", StringType(), True),\n",
    "    StructField(\"merch_lat\", StringType(), True),\n",
    "    StructField(\"merch_long\", StringType(), True),\n",
    "    StructField(\"is_fraud\", StringType(), True),\n",
    "    StructField(\"event_time\",StringType(),True)\n",
    "])"
   ]
  },
  {
   "cell_type": "code",
   "execution_count": 5,
   "id": "0d3103f7-7197-4fa0-b312-4abedabff9e4",
   "metadata": {},
   "outputs": [],
   "source": [
    "df = df.select(from_json(col(\"json_str\"),schema=schema).alias(\"data\")).select(\"data.*\")"
   ]
  },
  {
   "cell_type": "code",
   "execution_count": 6,
   "id": "adea9c2b-5ec5-47fe-a4b1-96f544742c07",
   "metadata": {},
   "outputs": [
    {
     "name": "stdout",
     "output_type": "stream",
     "text": [
      "root\n",
      " |-- : string (nullable = true)\n",
      " |-- trans_date_trans_time: string (nullable = true)\n",
      " |-- cc_num: string (nullable = true)\n",
      " |-- merchant: string (nullable = true)\n",
      " |-- category: string (nullable = true)\n",
      " |-- amt: string (nullable = true)\n",
      " |-- first: string (nullable = true)\n",
      " |-- last: string (nullable = true)\n",
      " |-- gender: string (nullable = true)\n",
      " |-- street: string (nullable = true)\n",
      " |-- city: string (nullable = true)\n",
      " |-- state: string (nullable = true)\n",
      " |-- zip: string (nullable = true)\n",
      " |-- lat: string (nullable = true)\n",
      " |-- long: string (nullable = true)\n",
      " |-- city_pop: string (nullable = true)\n",
      " |-- job: string (nullable = true)\n",
      " |-- dob: string (nullable = true)\n",
      " |-- trans_num: string (nullable = true)\n",
      " |-- unix_time: string (nullable = true)\n",
      " |-- merch_lat: string (nullable = true)\n",
      " |-- merch_long: string (nullable = true)\n",
      " |-- is_fraud: string (nullable = true)\n",
      " |-- event_time: string (nullable = true)\n",
      "\n"
     ]
    }
   ],
   "source": [
    "df.printSchema()"
   ]
  },
  {
   "cell_type": "code",
   "execution_count": 7,
   "id": "a2550092-15d4-4997-a3df-c55cc9a4bd6a",
   "metadata": {},
   "outputs": [],
   "source": [
    "df = df.coalesce(2)"
   ]
  },
  {
   "cell_type": "code",
   "execution_count": 8,
   "id": "051038ea-8dac-448a-8643-d77a943347df",
   "metadata": {},
   "outputs": [],
   "source": [
    "df.write \\\n",
    "    .format(\"parquet\") \\\n",
    "    .mode(\"overwrite\") \\\n",
    "    .save(\"hdfs://hadoop-namenode:9000/user/jovyan/output/kafka_parquet_compact\")"
   ]
  },
  {
   "cell_type": "code",
   "execution_count": null,
   "id": "029c9b0d-e785-4083-b46e-1ee8dc796384",
   "metadata": {},
   "outputs": [],
   "source": [
    ",,,,, -----> {.......} -----> \"{.......}\" ---> 00101011001   -------> \"{.......}\" ----> {.......} -----> ,,,,,\n",
    "\n",
    "ahmed,25,ECE -----> {name:ahmed,age:25,dep:ECE}  -----> {name:ahmed,age:25,dep:ECE}\""
   ]
  }
 ],
 "metadata": {
  "kernelspec": {
   "display_name": "Python 3 (ipykernel)",
   "language": "python",
   "name": "python3"
  },
  "language_info": {
   "codemirror_mode": {
    "name": "ipython",
    "version": 3
   },
   "file_extension": ".py",
   "mimetype": "text/x-python",
   "name": "python",
   "nbconvert_exporter": "python",
   "pygments_lexer": "ipython3",
   "version": "3.11.6"
  }
 },
 "nbformat": 4,
 "nbformat_minor": 5
}
