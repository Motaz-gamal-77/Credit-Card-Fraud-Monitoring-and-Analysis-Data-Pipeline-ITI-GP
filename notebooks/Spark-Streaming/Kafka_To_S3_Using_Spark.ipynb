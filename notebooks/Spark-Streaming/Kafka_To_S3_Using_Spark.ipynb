{
 "cells": [
  {
   "cell_type": "code",
   "execution_count": null,
   "id": "85fc5e7c-fcdd-4588-a523-b19fbe4e6e5c",
   "metadata": {},
   "outputs": [],
   "source": [
    "from pyspark.sql import SparkSession\n",
    "from pyspark.sql.functions import from_json\n",
    "from pyspark.sql.types import StructType, StringType, DoubleType, TimestampType"
   ]
  },
  {
   "cell_type": "code",
   "execution_count": null,
   "id": "be2cae82-f5df-4a9e-b221-c7ff39745768",
   "metadata": {},
   "outputs": [],
   "source": [
    "# add the actual credintainal an end point \n",
    "# Step 1: Build the Spark Session with required Kafka & S3 packages\n",
    "spark = SparkSession.builder \\\n",
    "    .appName(\"KafkaToS3Parquet\") \\\n",
    "    .config(\"spark.jars.packages\",\n",
    "            \"org.apache.spark:spark-sql-kafka-0-10_2.12:3.5.0,\"\n",
    "            \"org.apache.hadoop:hadoop-aws:3.3.4\") \\\n",
    "    .config(\"spark.hadoop.fs.s3a.access.key\", \"YOUR_AWS_ACCESS_KEY\") \\\n",
    "    .config(\"spark.hadoop.fs.s3a.secret.key\", \"YOUR_AWS_SECRET_KEY\") \\\n",
    "    .config(\"spark.hadoop.fs.s3a.endpoint\", \"s3.amazonaws.com\") \\\n",
    "    .config(\"spark.hadoop.fs.s3a.path.style.access\", \"true\") \\\n",
    "    .config(\"spark.hadoop.fs.s3a.connection.ssl.enabled\", \"true\") \\\n",
    "    .config(\"spark.sql.parquet.compression.codec\", \"snappy\") \\\n",
    "    .getOrCreate()"
   ]
  },
  {
   "cell_type": "code",
   "execution_count": null,
   "id": "cf0e9a41-2f0d-43ad-b7fa-4255e6daef57",
   "metadata": {},
   "outputs": [],
   "source": [
    "# Step 2: Read from Kafka\n",
    "kafka_stream = spark.readStream \\\n",
    "    .format(\"kafka\") \\\n",
    "    .option(\"kafka.bootstrap.servers\", \"localhost:9092\") \\\n",
    "    .option(\"subscribe\", \"transactions\") \\\n",
    "    .option(\"startingOffsets\", \"earliest\") \\\n",
    "    .option(\"failOnDataLoss\", \"false\") \\\n",
    "    .load()"
   ]
  },
  {
   "cell_type": "code",
   "execution_count": null,
   "id": "ae4eea97-a63c-4c7e-9d29-fca1ec709757",
   "metadata": {},
   "outputs": [],
   "source": [
    "# Step 3: Define your schema (matches incoming Kafka JSON structure)\n",
    "schema = StructType() \\\n",
    "    .add(\"id\", StringType()) \\\n",
    "    .add(\"amount\", DoubleType()) \\\n",
    "    .add(\"event_time\", TimestampType())"
   ]
  },
  {
   "cell_type": "code",
   "execution_count": null,
   "id": "349f927b-de34-4b71-a0f2-ade670b2a268",
   "metadata": {},
   "outputs": [],
   "source": [
    "# Step 4: Parse the Kafka value as JSON\n",
    "parsed = kafka_stream.selectExpr(\"CAST(value AS STRING) as json_str\") \\\n",
    "    .select(from_json(\"json_str\", schema).alias(\"data\")) \\\n",
    "    .select(\"data.*\")"
   ]
  },
  {
   "cell_type": "code",
   "execution_count": null,
   "id": "c1c0ce90-5398-4e53-b0a8-f615151060a0",
   "metadata": {},
   "outputs": [],
   "source": [
    "# Step 5: Write to S3 as Parquet\n",
    "sink = parsed.writeStream \\\n",
    "    .format(\"parquet\") \\\n",
    "    .option(\"path\", \"s3a://my-bucket/raw/transactions_parquet/\") \\\n",
    "    .option(\"checkpointLocation\", \"s3a://my-bucket/checkpoints/kafka_to_parquet/\") \\\n",
    "    .outputMode(\"append\") \\\n",
    "    .trigger(processingTime=\"30 seconds\") \\\n",
    "    .start()\n",
    "\n",
    "sink.awaitTermination()\n"
   ]
  }
 ],
 "metadata": {
  "kernelspec": {
   "display_name": "Python 3 (ipykernel)",
   "language": "python",
   "name": "python3"
  },
  "language_info": {
   "codemirror_mode": {
    "name": "ipython",
    "version": 3
   },
   "file_extension": ".py",
   "mimetype": "text/x-python",
   "name": "python",
   "nbconvert_exporter": "python",
   "pygments_lexer": "ipython3",
   "version": "3.11.6"
  }
 },
 "nbformat": 4,
 "nbformat_minor": 5
}
