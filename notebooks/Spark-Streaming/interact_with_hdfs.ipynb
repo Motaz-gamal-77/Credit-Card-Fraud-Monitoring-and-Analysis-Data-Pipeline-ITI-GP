{
 "cells": [
  {
   "cell_type": "code",
   "execution_count": 1,
   "id": "d3da260c-8db5-4811-a630-d42bfc9abce6",
   "metadata": {},
   "outputs": [
    {
     "name": "stdout",
     "output_type": "stream",
     "text": [
      "Collecting hdfs\n",
      "  Downloading hdfs-2.7.3.tar.gz (43 kB)\n",
      "\u001b[2K     \u001b[90m━━━━━━━━━━━━━━━━━━━━━━━━━━━━━━━━━━━━━━━━\u001b[0m \u001b[32m43.5/43.5 kB\u001b[0m \u001b[31m3.9 MB/s\u001b[0m eta \u001b[36m0:00:00\u001b[0m\n",
      "\u001b[?25h  Preparing metadata (setup.py) ... \u001b[?25ldone\n",
      "\u001b[?25hCollecting docopt (from hdfs)\n",
      "  Downloading docopt-0.6.2.tar.gz (25 kB)\n",
      "  Preparing metadata (setup.py) ... \u001b[?25ldone\n",
      "\u001b[?25hRequirement already satisfied: requests>=2.7.0 in /opt/conda/lib/python3.11/site-packages (from hdfs) (2.31.0)\n",
      "Requirement already satisfied: six>=1.9.0 in /opt/conda/lib/python3.11/site-packages (from hdfs) (1.16.0)\n",
      "Requirement already satisfied: charset-normalizer<4,>=2 in /opt/conda/lib/python3.11/site-packages (from requests>=2.7.0->hdfs) (3.3.0)\n",
      "Requirement already satisfied: idna<4,>=2.5 in /opt/conda/lib/python3.11/site-packages (from requests>=2.7.0->hdfs) (3.4)\n",
      "Requirement already satisfied: urllib3<3,>=1.21.1 in /opt/conda/lib/python3.11/site-packages (from requests>=2.7.0->hdfs) (2.0.7)\n",
      "Requirement already satisfied: certifi>=2017.4.17 in /opt/conda/lib/python3.11/site-packages (from requests>=2.7.0->hdfs) (2023.7.22)\n",
      "Building wheels for collected packages: hdfs, docopt\n",
      "  Building wheel for hdfs (setup.py) ... \u001b[?25ldone\n",
      "\u001b[?25h  Created wheel for hdfs: filename=hdfs-2.7.3-py3-none-any.whl size=34325 sha256=382161cf496a6c782e82734451b7147db1d12e4c0752e28459f39e1f668a21b8\n",
      "  Stored in directory: /home/jovyan/.cache/pip/wheels/b9/1d/dc/eb0833be25464c359903d356c4204721c6a672c26ff164cdc3\n",
      "  Building wheel for docopt (setup.py) ... \u001b[?25ldone\n",
      "\u001b[?25h  Created wheel for docopt: filename=docopt-0.6.2-py2.py3-none-any.whl size=13705 sha256=3e774e4dc54efba10b9fda7fc49bb73737599f11989e5fb4c54b383125438085\n",
      "  Stored in directory: /home/jovyan/.cache/pip/wheels/1a/b0/8c/4b75c4116c31f83c8f9f047231251e13cc74481cca4a78a9ce\n",
      "Successfully built hdfs docopt\n",
      "Installing collected packages: docopt, hdfs\n",
      "Successfully installed docopt-0.6.2 hdfs-2.7.3\n"
     ]
    }
   ],
   "source": [
    "!pip install hdfs\n",
    "from hdfs import InsecureClient"
   ]
  },
  {
   "cell_type": "code",
   "execution_count": 2,
   "id": "087bd6f3-9c8b-4a32-9f97-ddf59fb39b0c",
   "metadata": {},
   "outputs": [],
   "source": [
    "def hdfs_InsecureClient():\n",
    "    try: \n",
    "        client = InsecureClient('http://hadoop-namenode:9870', user='root')\n",
    "        print (\"HDFS Insecure Client has been created and returned successfuly\")\n",
    "        return client\n",
    "    except:\n",
    "        print(\"connecting to localhost:9870 failed\")"
   ]
  },
  {
   "cell_type": "code",
   "execution_count": 3,
   "id": "d0b3b757-5dff-4be4-83bd-f20582739300",
   "metadata": {},
   "outputs": [],
   "source": [
    "def read(file_path, hdfs_client):\n",
    "    with hdfs_client.read(file_path) as reder:\n",
    "        f_content = reder.read()\n",
    "        return f_content\n",
    "        "
   ]
  },
  {
   "cell_type": "code",
   "execution_count": 4,
   "id": "815aa1e7-d656-4e7e-947a-fff1b22779ad",
   "metadata": {},
   "outputs": [],
   "source": [
    "def content_of_dir(dir_path,hdfs_client):\n",
    "    # List files in a directory\n",
    "    print(f\"list of folders in {dir_path}:\")\n",
    "    for file in hdfs_client.list(dir_path):\n",
    "        print(file)"
   ]
  },
  {
   "cell_type": "code",
   "execution_count": 5,
   "id": "f94fcbe6-9f1a-414a-bb73-9349ab8df0ab",
   "metadata": {},
   "outputs": [
    {
     "name": "stdout",
     "output_type": "stream",
     "text": [
      "HDFS Insecure Client has been created and returned successfuly\n"
     ]
    }
   ],
   "source": [
    "client = hdfs_InsecureClient() # type: ignore  "
   ]
  },
  {
   "cell_type": "code",
   "execution_count": 6,
   "id": "f67e1a16-fe3a-4b74-83f4-cb9677538747",
   "metadata": {},
   "outputs": [
    {
     "name": "stdout",
     "output_type": "stream",
     "text": [
      "{'accessTime': 0, 'blockSize': 0, 'childrenNum': 0, 'fileId': 16385, 'group': 'supergroup', 'length': 0, 'modificationTime': 1754154483249, 'owner': 'root', 'pathSuffix': '', 'permission': '755', 'replication': 0, 'snapshotEnabled': True, 'storagePolicy': 0, 'type': 'DIRECTORY'}\n",
      "['test.txt']\n"
     ]
    }
   ],
   "source": [
    "print(client.status('/'))  # Ensure connection is valid\n",
    "\n",
    "client.makedirs('/jupyter_test')\n",
    "client.write('/jupyter_test/test.txt', data='Hello from Jupyter!', overwrite=True)\n",
    "\n",
    "print(client.list('/jupyter_test'))\n"
   ]
  },
  {
   "cell_type": "code",
   "execution_count": 12,
   "id": "88ec7e2f-580d-46ae-a1c9-8f4ff64084f8",
   "metadata": {},
   "outputs": [
    {
     "data": {
      "text/plain": [
       "True"
      ]
     },
     "execution_count": 12,
     "metadata": {},
     "output_type": "execute_result"
    }
   ],
   "source": [
    "client.delete('/jupyter_test', recursive=True)"
   ]
  },
  {
   "cell_type": "code",
   "execution_count": 8,
   "id": "66b5cbf9-58cd-4570-b525-a0567ddb7d90",
   "metadata": {},
   "outputs": [
    {
     "data": {
      "text/plain": [
       "True"
      ]
     },
     "execution_count": 8,
     "metadata": {},
     "output_type": "execute_result"
    }
   ],
   "source": [
    "client.delete('/user/jovyan', recursive=True)"
   ]
  },
  {
   "cell_type": "code",
   "execution_count": 9,
   "id": "3c709717-8369-4022-8be4-8f1f24e9c018",
   "metadata": {},
   "outputs": [
    {
     "data": {
      "text/plain": [
       "True"
      ]
     },
     "execution_count": 9,
     "metadata": {},
     "output_type": "execute_result"
    }
   ],
   "source": [
    "client.delete('/user', recursive=True)"
   ]
  },
  {
   "cell_type": "code",
   "execution_count": 7,
   "id": "0e3cc7a6-b2a3-40ed-9c74-d0f8693f66d2",
   "metadata": {},
   "outputs": [],
   "source": [
    "client.makedirs('/user/jovyan/checkpoints/kafka_hdfs_job')"
   ]
  },
  {
   "cell_type": "code",
   "execution_count": 9,
   "id": "28227199-aed5-429e-9788-4ac37b3ada93",
   "metadata": {},
   "outputs": [
    {
     "data": {
      "text/plain": [
       "True"
      ]
     },
     "execution_count": 9,
     "metadata": {},
     "output_type": "execute_result"
    }
   ],
   "source": [
    "client.delete('/user/jovyan/checkpoints/kafka_hdfs_job', recursive=True)"
   ]
  },
  {
   "cell_type": "code",
   "execution_count": 8,
   "id": "c1577fc3-80cb-4dc8-85f3-8ef25803f17d",
   "metadata": {},
   "outputs": [],
   "source": [
    "client.makedirs('/user/jovyan/output/kafka_parquet')"
   ]
  },
  {
   "cell_type": "code",
   "execution_count": 11,
   "id": "f35cdaeb-9027-4b6b-ad21-bf7bf1d3f1ec",
   "metadata": {},
   "outputs": [
    {
     "data": {
      "text/plain": [
       "True"
      ]
     },
     "execution_count": 11,
     "metadata": {},
     "output_type": "execute_result"
    }
   ],
   "source": [
    "client.delete('/user', recursive=True)"
   ]
  },
  {
   "cell_type": "code",
   "execution_count": null,
   "id": "11f06433-2091-4d08-9189-68b31bd567ca",
   "metadata": {},
   "outputs": [],
   "source": []
  }
 ],
 "metadata": {
  "kernelspec": {
   "display_name": "Python 3 (ipykernel)",
   "language": "python",
   "name": "python3"
  },
  "language_info": {
   "codemirror_mode": {
    "name": "ipython",
    "version": 3
   },
   "file_extension": ".py",
   "mimetype": "text/x-python",
   "name": "python",
   "nbconvert_exporter": "python",
   "pygments_lexer": "ipython3",
   "version": "3.11.6"
  }
 },
 "nbformat": 4,
 "nbformat_minor": 5
}
