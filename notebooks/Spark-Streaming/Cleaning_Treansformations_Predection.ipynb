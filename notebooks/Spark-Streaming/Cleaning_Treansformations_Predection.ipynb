{
 "cells": [
  {
   "cell_type": "code",
   "execution_count": 1,
   "id": "cc05834d-480c-4e11-b8ee-4f9127966d8a",
   "metadata": {
    "papermill": {
     "duration": 1.863171,
     "end_time": "2025-08-13T13:52:23.112886",
     "exception": false,
     "start_time": "2025-08-13T13:52:21.249715",
     "status": "completed"
    },
    "tags": []
   },
   "outputs": [],
   "source": [
    "from pyspark.sql import SparkSession\n",
    "from pyspark.ml import PipelineModel\n",
    "from pyspark.sql.functions import *\n",
    "from pyspark.sql.types import *\n",
    "import pandas as pd \n",
    "import numpy as np\n",
    "import math\n",
    "import joblib"
   ]
  },
  {
   "cell_type": "code",
   "execution_count": 2,
   "id": "cb10dc90-8383-4681-808d-9f06c53d0819",
   "metadata": {
    "papermill": {
     "duration": 14.69577,
     "end_time": "2025-08-13T13:52:37.813694",
     "exception": false,
     "start_time": "2025-08-13T13:52:23.117924",
     "status": "completed"
    },
    "tags": []
   },
   "outputs": [],
   "source": [
    "spark = SparkSession.builder \\\n",
    "    .appName(\"KafkaStreamReader\") \\\n",
    "    .config(\"spark.streaming.stopGracefullyOnShutdown\", True) \\\n",
    "    .config('spark.jars.packages', 'org.apache.spark:spark-sql-kafka-0-10_2.12:3.5.0') \\\n",
    "    .config(\"spark.sql.shuffle.partitions\", 4) \\\n",
    "    .getOrCreate()"
   ]
  },
  {
   "cell_type": "code",
   "execution_count": 3,
   "id": "b490b0c8-624c-4a3c-a242-061f56c4afd8",
   "metadata": {
    "papermill": {
     "duration": 1.879006,
     "end_time": "2025-08-13T13:52:39.699519",
     "exception": false,
     "start_time": "2025-08-13T13:52:37.820513",
     "status": "completed"
    },
    "tags": []
   },
   "outputs": [],
   "source": [
    "kafka_df  = spark.readStream \\\n",
    "    .format(\"kafka\") \\\n",
    "    .option(\"kafka.bootstrap.servers\", \"kafka_v2:9092\") \\\n",
    "    .option(\"subscribe\", \"credit_card_trans\") \\\n",
    "    .option(\"startingOffsets\", \"latest\") \\\n",
    "    .option(\"failOnDataLoss\", \"false\") \\\n",
    "    .load()"
   ]
  },
  {
   "cell_type": "code",
   "execution_count": 4,
   "id": "9aad5e42-b6ec-4bdf-b2e7-2b19e5328050",
   "metadata": {
    "papermill": {
     "duration": 0.048435,
     "end_time": "2025-08-13T13:52:39.752762",
     "exception": false,
     "start_time": "2025-08-13T13:52:39.704327",
     "status": "completed"
    },
    "tags": []
   },
   "outputs": [
    {
     "name": "stdout",
     "output_type": "stream",
     "text": [
      "root\n",
      " |-- key: binary (nullable = true)\n",
      " |-- value: binary (nullable = true)\n",
      " |-- topic: string (nullable = true)\n",
      " |-- partition: integer (nullable = true)\n",
      " |-- offset: long (nullable = true)\n",
      " |-- timestamp: timestamp (nullable = true)\n",
      " |-- timestampType: integer (nullable = true)\n",
      "\n"
     ]
    }
   ],
   "source": [
    "kafka_df.printSchema()"
   ]
  },
  {
   "cell_type": "markdown",
   "id": "056dc03c-ca73-45da-aaa7-52c25605ac61",
   "metadata": {
    "papermill": {
     "duration": 0.004729,
     "end_time": "2025-08-13T13:52:39.762848",
     "exception": false,
     "start_time": "2025-08-13T13:52:39.758119",
     "status": "completed"
    },
    "tags": []
   },
   "source": [
    "# Extracting"
   ]
  },
  {
   "cell_type": "code",
   "execution_count": 5,
   "id": "eb251f21-01e1-4676-aa95-ce825f696990",
   "metadata": {
    "papermill": {
     "duration": 0.312533,
     "end_time": "2025-08-13T13:52:40.080187",
     "exception": false,
     "start_time": "2025-08-13T13:52:39.767654",
     "status": "completed"
    },
    "tags": []
   },
   "outputs": [],
   "source": [
    "# Kafka message is in binary, so cast it to string\n",
    "value_df = kafka_df.selectExpr(\"CAST(value AS STRING) as json_str\")"
   ]
  },
  {
   "cell_type": "code",
   "execution_count": 6,
   "id": "e64b5d20-a5ff-4db1-aac7-3505021e92e1",
   "metadata": {
    "papermill": {
     "duration": 0.02689,
     "end_time": "2025-08-13T13:52:40.127718",
     "exception": false,
     "start_time": "2025-08-13T13:52:40.100828",
     "status": "completed"
    },
    "tags": []
   },
   "outputs": [],
   "source": [
    "schema = StructType([\n",
    "    StructField(\"\", StringType(), True),\n",
    "    StructField(\"trans_date_trans_time\", StringType(), True),\n",
    "    StructField(\"cc_num\", StringType(), True),\n",
    "    StructField(\"merchant\", StringType(), True),\n",
    "    StructField(\"category\", StringType(), True),\n",
    "    StructField(\"amt\", StringType(), True),\n",
    "    StructField(\"first\", StringType(), True),\n",
    "    StructField(\"last\", StringType(), True),\n",
    "    StructField(\"gender\", StringType(), True),\n",
    "    StructField(\"street\", StringType(), True),\n",
    "    StructField(\"city\", StringType(), True),\n",
    "    StructField(\"state\", StringType(), True),\n",
    "    StructField(\"zip\", StringType(), True),\n",
    "    StructField(\"lat\", StringType(), True),\n",
    "    StructField(\"long\", StringType(), True),\n",
    "    StructField(\"city_pop\", StringType(), True),\n",
    "    StructField(\"job\", StringType(), True),\n",
    "    StructField(\"dob\", StringType(), True),\n",
    "    StructField(\"trans_num\", StringType(), True),\n",
    "    StructField(\"unix_time\", StringType(), True),\n",
    "    StructField(\"merch_lat\", StringType(), True),\n",
    "    StructField(\"merch_long\", StringType(), True),\n",
    "    StructField(\"is_fraud\", StringType(), True),\n",
    "    StructField(\"event_time\",StringType(),True)\n",
    "])"
   ]
  },
  {
   "cell_type": "code",
   "execution_count": 7,
   "id": "7566e4e5-5260-4867-a13c-c72bb13586f4",
   "metadata": {
    "papermill": {
     "duration": 0.727795,
     "end_time": "2025-08-13T13:52:40.864530",
     "exception": false,
     "start_time": "2025-08-13T13:52:40.136735",
     "status": "completed"
    },
    "tags": []
   },
   "outputs": [],
   "source": [
    "parsed_df = value_df.select(from_json(col(\"json_str\"), schema).alias(\"data\")).select(\"data.*\")"
   ]
  },
  {
   "cell_type": "markdown",
   "id": "41a6f4e6-9046-42bd-b115-12785e9a94ed",
   "metadata": {
    "papermill": {
     "duration": 0.008633,
     "end_time": "2025-08-13T13:52:40.897607",
     "exception": false,
     "start_time": "2025-08-13T13:52:40.888974",
     "status": "completed"
    },
    "tags": []
   },
   "source": [
    "# Cleaning and Transforamtion "
   ]
  },
  {
   "cell_type": "code",
   "execution_count": 8,
   "id": "b19eaada-176a-43e8-8e0e-8bb1ad716b03",
   "metadata": {
    "papermill": {
     "duration": 0.217921,
     "end_time": "2025-08-13T13:52:41.123061",
     "exception": false,
     "start_time": "2025-08-13T13:52:40.905140",
     "status": "completed"
    },
    "tags": []
   },
   "outputs": [],
   "source": [
    "# columns renaming and hashing\n",
    "parsed_df = parsed_df.withColumnRenamed(\"\", \"indx\")\n",
    "parsed_df = parsed_df.withColumn(\"indx\",sha2(concat_ws(\"||\",col(\"indx\").cast(\"string\"),col(\"event_time\").cast(\"string\")),256))"
   ]
  },
  {
   "cell_type": "code",
   "execution_count": 9,
   "id": "e96c1f1a-c849-4550-aa4c-501b5445adfe",
   "metadata": {
    "papermill": {
     "duration": 0.729315,
     "end_time": "2025-08-13T13:52:41.860793",
     "exception": false,
     "start_time": "2025-08-13T13:52:41.131478",
     "status": "completed"
    },
    "tags": []
   },
   "outputs": [],
   "source": [
    "# Data casting\n",
    "parsed_df = parsed_df.withColumn(\"is_fraud\",col(\"is_fraud\").cast(\"int\")) \\\n",
    "                        .withColumn(\"merch_long\",col(\"merch_long\").cast(\"double\")) \\\n",
    "                        .withColumn(\"merch_lat\",col(\"merch_lat\").cast(\"double\")) \\\n",
    "                        .withColumn(\"unix_time\",col(\"unix_time\").cast(\"long\")) \\\n",
    "                        .withColumn(\"merch_long\",col(\"merch_long\").cast(\"double\")) \\\n",
    "                        .withColumn(\"city_pop\",col(\"city_pop\").cast(\"int\")) \\\n",
    "                        .withColumn(\"long\",col(\"long\").cast(\"double\")) \\\n",
    "                        .withColumn(\"lat\",col(\"lat\").cast(\"double\")) \\\n",
    "                        .withColumn(\"amt\",col(\"amt\").cast(\"double\")) \\\n",
    "                        .withColumn(\"zip\",col(\"zip\").cast(\"int\")) \\\n",
    "                        .withColumn(\"dob\", to_date(\"dob\", \"yyyy-MM-dd\")) \\\n",
    "                        .withColumn(\"trans_date_trans_time\", to_timestamp(\"trans_date_trans_time\", \"yyyy-MM-dd HH:mm:ss\")) \\\n",
    "                        .withColumn(\"event_time\", to_timestamp(\"event_time\", \"yyyy-MM-dd HH:mm:ss\"))"
   ]
  },
  {
   "cell_type": "code",
   "execution_count": 10,
   "id": "90b755f1-0cfb-4511-b14b-caa00fdceb4e",
   "metadata": {
    "papermill": {
     "duration": 0.384836,
     "end_time": "2025-08-13T13:52:42.259292",
     "exception": false,
     "start_time": "2025-08-13T13:52:41.874456",
     "status": "completed"
    },
    "tags": []
   },
   "outputs": [],
   "source": [
    "# Data Validation\n",
    "parsed_df = parsed_df.withColumn(\"age\", (datediff(current_date(), col(\"dob\")) / 365).cast(\"int\")) \\\n",
    "                     .fillna({\"age\": 0}) \\\n",
    "                     .withColumn(\"age\", abs(col(\"age\")))\n",
    "\n",
    "\n",
    "parsed_df = parsed_df.fillna({\"amt\": 0}) \\\n",
    "                     .withColumn(\"amt\", abs(col(\"amt\")))"
   ]
  },
  {
   "cell_type": "code",
   "execution_count": 11,
   "id": "ddf48525-73f4-40bc-afe1-98293d2fc2d7",
   "metadata": {
    "papermill": {
     "duration": 0.573796,
     "end_time": "2025-08-13T13:52:42.846127",
     "exception": false,
     "start_time": "2025-08-13T13:52:42.272331",
     "status": "completed"
    },
    "tags": []
   },
   "outputs": [],
   "source": [
    "# Data standardization\n",
    "parsed_df = parsed_df.withColumn(\"merchant\", regexp_replace(\"merchant\", \"^fraud_\", \"\"))\n",
    "\n",
    "parsed_df = parsed_df.withColumn(\"gender\", when(col(\"gender\") == \"M\", \"Male\").when(col(\"gender\") == \"F\", \"Female\"))\n",
    "\n",
    "\n",
    "cols_to_trim = [\"first\", \"last\", \"job\", \"merchant\", \"category\", \"street\", \"city\", \"state\"]\n",
    "\n",
    "for c in cols_to_trim:\n",
    "    parsed_df = parsed_df.withColumn(c, trim(col(c)))"
   ]
  },
  {
   "cell_type": "code",
   "execution_count": 12,
   "id": "e851282d-14b2-4ff9-9d29-a8050ac7efb0",
   "metadata": {
    "papermill": {
     "duration": 0.226855,
     "end_time": "2025-08-13T13:52:43.082067",
     "exception": false,
     "start_time": "2025-08-13T13:52:42.855212",
     "status": "completed"
    },
    "tags": []
   },
   "outputs": [],
   "source": [
    "# Feature engineering and Data Enrchiment \n",
    "def haversine(lat, long, merch_lat, merch_long):\n",
    "    R = 6371.0  # Earth radius in kilometers\n",
    "\n",
    "    # Convert degrees to radians\n",
    "    lat1_rad = math.radians(lat)\n",
    "    lon1_rad = math.radians(long)\n",
    "    lat2_rad = math.radians(merch_lat)\n",
    "    lon2_rad = math.radians(merch_long)\n",
    "\n",
    "    dlat = lat2_rad - lat1_rad\n",
    "    dlon = lon2_rad - lon1_rad\n",
    "\n",
    "    a = math.sin(dlat / 2) ** 2 + \\\n",
    "        math.cos(lat1_rad) * math.cos(lat2_rad) * \\\n",
    "        math.sin(dlon / 2) ** 2\n",
    "    c = 2 * math.atan2(math.sqrt(a), math.sqrt(1 - a))\n",
    "\n",
    "    distance = R * c\n",
    "    return distance\n",
    "\n",
    "haversine_udf = udf(haversine, DoubleType())\n",
    "parsed_df = parsed_df.withColumn(\"distance_km\",haversine_udf(\"lat\",\"long\",\"merch_lat\",\"merch_long\"))"
   ]
  },
  {
   "cell_type": "code",
   "execution_count": 13,
   "id": "e999fb9e-3a8b-4e20-b7c4-085afcec205d",
   "metadata": {
    "papermill": {
     "duration": 0.223602,
     "end_time": "2025-08-13T13:52:43.325526",
     "exception": false,
     "start_time": "2025-08-13T13:52:43.101924",
     "status": "completed"
    },
    "tags": []
   },
   "outputs": [],
   "source": [
    "# surrogate key generation\n",
    "parsed_df = parsed_df \\\n",
    ".withColumn(\"merchant_id\", sha2(concat_ws(\"||\", col(\"merchant\")), 256)) \\\n",
    ".withColumn(\"customer_id\", sha2(concat_ws(\"||\", col(\"first\"), col(\"last\"), col(\"dob\").cast(\"string\")), 256))\n",
    "                        "
   ]
  },
  {
   "cell_type": "code",
   "execution_count": 14,
   "id": "7f148d44-ee93-472d-a090-0906bc7fb137",
   "metadata": {
    "papermill": {
     "duration": 0.01776,
     "end_time": "2025-08-13T13:52:43.357986",
     "exception": false,
     "start_time": "2025-08-13T13:52:43.340226",
     "status": "completed"
    },
    "tags": []
   },
   "outputs": [],
   "source": [
    "cleand_transformed_df = parsed_df"
   ]
  },
  {
   "cell_type": "code",
   "execution_count": 15,
   "id": "59d267a0-3345-438f-805f-1af9d8af2d80",
   "metadata": {
    "papermill": {
     "duration": 0.040728,
     "end_time": "2025-08-13T13:52:43.409768",
     "exception": false,
     "start_time": "2025-08-13T13:52:43.369040",
     "status": "completed"
    },
    "tags": []
   },
   "outputs": [
    {
     "name": "stdout",
     "output_type": "stream",
     "text": [
      "root\n",
      " |-- indx: string (nullable = true)\n",
      " |-- trans_date_trans_time: timestamp (nullable = true)\n",
      " |-- cc_num: string (nullable = true)\n",
      " |-- merchant: string (nullable = true)\n",
      " |-- category: string (nullable = true)\n",
      " |-- amt: double (nullable = false)\n",
      " |-- first: string (nullable = true)\n",
      " |-- last: string (nullable = true)\n",
      " |-- gender: string (nullable = true)\n",
      " |-- street: string (nullable = true)\n",
      " |-- city: string (nullable = true)\n",
      " |-- state: string (nullable = true)\n",
      " |-- zip: integer (nullable = true)\n",
      " |-- lat: double (nullable = true)\n",
      " |-- long: double (nullable = true)\n",
      " |-- city_pop: integer (nullable = true)\n",
      " |-- job: string (nullable = true)\n",
      " |-- dob: date (nullable = true)\n",
      " |-- trans_num: string (nullable = true)\n",
      " |-- unix_time: long (nullable = true)\n",
      " |-- merch_lat: double (nullable = true)\n",
      " |-- merch_long: double (nullable = true)\n",
      " |-- is_fraud: integer (nullable = true)\n",
      " |-- event_time: timestamp (nullable = true)\n",
      " |-- age: integer (nullable = false)\n",
      " |-- distance_km: double (nullable = true)\n",
      " |-- merchant_id: string (nullable = true)\n",
      " |-- customer_id: string (nullable = true)\n",
      "\n"
     ]
    }
   ],
   "source": [
    "cleand_transformed_df.printSchema()"
   ]
  },
  {
   "cell_type": "markdown",
   "id": "62f39a6e-5411-4ddd-af87-90c9d6ca55e3",
   "metadata": {
    "papermill": {
     "duration": 0.013481,
     "end_time": "2025-08-13T13:52:43.448968",
     "exception": false,
     "start_time": "2025-08-13T13:52:43.435487",
     "status": "completed"
    },
    "tags": []
   },
   "source": [
    "# Predection"
   ]
  },
  {
   "cell_type": "code",
   "execution_count": 17,
   "id": "73a439ea-352a-4237-aec4-ffe347ce3a8f",
   "metadata": {
    "papermill": {
     "duration": null,
     "end_time": null,
     "exception": false,
     "start_time": "2025-08-13T13:52:43.460869",
     "status": "running"
    },
    "tags": []
   },
   "outputs": [],
   "source": [
    "# Select the wanted columns\n",
    "df = cleand_transformed_df.withColumnRenamed(\"distance_km\", \"distance\").withColumn(\"cc_num\",col(\"cc_num\").cast(\"long\"))\n",
    "\n",
    "# load the model \n",
    "model = PipelineModel.load(\"fraud_detection_sparkml_model\")\n",
    "\n",
    "# Prediction\n",
    "prediction = model.transform(df)\n",
    "\n",
    "cleand_transformed_df = prediction.select(\"indx\",\"trans_date_trans_time\", col(\"cc_num\").cast(\"string\"), \"merchant\", \"category\", \"amt\",\n",
    "                                          \"first\", \"last\", \"gender\", \"street\", \"city\", \"state\", \"zip\", \"lat\", \"long\",\n",
    "                                          \"city_pop\", \"job\", \"dob\", \"trans_num\", \"unix_time\", \"merch_lat\", \"merch_long\",\n",
    "                                          \"is_fraud\", \"event_time\", \"age\", \"distance\", \"merchant_id\",\n",
    "                                          \"customer_id\", \"prediction\").withColumnRenamed(\"distance\", \"distance_km\")"
   ]
  },
  {
   "cell_type": "markdown",
   "id": "f36169ba-a77c-40bc-b90d-94ac67f7362f",
   "metadata": {
    "papermill": {
     "duration": null,
     "end_time": null,
     "exception": null,
     "start_time": null,
     "status": "pending"
    },
    "tags": []
   },
   "source": [
    "# Loading"
   ]
  },
  {
   "cell_type": "code",
   "execution_count": 18,
   "id": "6e7cc501-08a0-49b2-9a89-40cdae88b2d3",
   "metadata": {
    "papermill": {
     "duration": null,
     "end_time": null,
     "exception": null,
     "start_time": null,
     "status": "pending"
    },
    "tags": []
   },
   "outputs": [],
   "source": [
    "def write_to_postgres(batch_df, batch_id):\n",
    "    batch_df.write \\\n",
    "        .format(\"jdbc\") \\\n",
    "        .option(\"url\", \"jdbc:postgresql://postgres_v2:5432/sparkdb\") \\\n",
    "        .option(\"dbtable\", \"transactions\") \\\n",
    "        .option(\"user\", \"spark\") \\\n",
    "        .option(\"password\", \"spark\") \\\n",
    "        .option(\"driver\", \"org.postgresql.Driver\") \\\n",
    "        .mode(\"append\") \\\n",
    "        .save()"
   ]
  },
  {
   "cell_type": "code",
   "execution_count": null,
   "id": "266b02a5-10fe-4134-ba33-d8a5997517b4",
   "metadata": {
    "papermill": {
     "duration": null,
     "end_time": null,
     "exception": null,
     "start_time": null,
     "status": "pending"
    },
    "tags": []
   },
   "outputs": [],
   "source": [
    "stream = cleand_transformed_df.writeStream \\\n",
    "    .foreachBatch(write_to_postgres) \\\n",
    "    .outputMode(\"append\") \\\n",
    "    .start()\n",
    "try:\n",
    "    stream.awaitTermination()\n",
    "except KeyboardInterrupt:\n",
    "    print(\"Gracefully stopping the stream...\")\n",
    "    stream.stop()"
   ]
  },
  {
   "cell_type": "code",
   "execution_count": null,
   "id": "4e1fc7ad-a047-432a-9f48-270a4f77c3f5",
   "metadata": {
    "papermill": {
     "duration": null,
     "end_time": null,
     "exception": null,
     "start_time": null,
     "status": "pending"
    },
    "tags": []
   },
   "outputs": [],
   "source": [
    "# stream = cleand_transformed_df.writeStream \\\n",
    "#                 .format(\"console\") \\\n",
    "#                 .outputMode(\"append\") \n",
    "#                 # .option(\"checkpointLocation\", \"checkpoint_dir_kafka\")\n",
    "#                 # .trigger(processingTime=\"20 seconds\")\n",
    "# qu = stream.start()\n",
    "# qu.stop()"
   ]
  }
 ],
 "metadata": {
  "kernelspec": {
   "display_name": "Python 3 (ipykernel)",
   "language": "python",
   "name": "python3"
  },
  "language_info": {
   "codemirror_mode": {
    "name": "ipython",
    "version": 3
   },
   "file_extension": ".py",
   "mimetype": "text/x-python",
   "name": "python",
   "nbconvert_exporter": "python",
   "pygments_lexer": "ipython3",
   "version": "3.11.6"
  },
  "papermill": {
   "default_parameters": {},
   "duration": null,
   "end_time": null,
   "environment_variables": {},
   "exception": null,
   "input_path": "/home/jovyan/work/Spark-Streaming/Cleaning_Treansformations_Predection.ipynb",
   "output_path": "/home/jovyan/work/Spark-Streaming/Cleaning_Treansformations_Predection.ipynb",
   "parameters": {},
   "start_time": "2025-08-13T13:52:19.497281",
   "version": "2.6.0"
  }
 },
 "nbformat": 4,
 "nbformat_minor": 5
}
